{
  "nbformat": 4,
  "nbformat_minor": 0,
  "metadata": {
    "colab": {
      "provenance": []
    },
    "kernelspec": {
      "name": "python3",
      "display_name": "Python 3"
    },
    "language_info": {
      "name": "python"
    }
  },
  "cells": [
    {
      "cell_type": "markdown",
      "source": [
        "# Unsupervised Learning Project2"
      ],
      "metadata": {
        "id": "z2TjtuDXQcvw"
      }
    },
    {
      "cell_type": "markdown",
      "source": [
        "## Introduction"
      ],
      "metadata": {
        "id": "6ZFfqnXnQhhs"
      }
    },
    {
      "cell_type": "markdown",
      "source": [
        "**DOMAIN**: Automobile\n",
        "\n",
        "\n",
        "**CONTEXT**: The purpose is to classify a given silhouette as one of three types of vehicle, using a set of features extracted from the silhouette. The\n",
        "vehicle may be viewed from one of many different angles.\n",
        "\n",
        "**DATA DESCRIPTION**: The data contains features extracted from the silhouette of vehicles in different angles. Four \"Corgie\" model vehicles were\n",
        "used for the experiment: a double decker bus, Cheverolet van, Saab 9000 and an Opel Manta 400 cars. This particular combination of vehicles\n",
        "was chosen with the expectation that the bus, van and either one of the cars would be readily distinguishable, but it would be more difficult to\n",
        "distinguish between the cars.\n",
        "\n",
        "All the features are numeric i.e. geometric features extracted from the silhouette."
      ],
      "metadata": {
        "id": "Sa1Q24YIVrxA"
      }
    },
    {
      "cell_type": "markdown",
      "source": [
        "Import the necessary libraries"
      ],
      "metadata": {
        "id": "hoWcaeLAQrC3"
      }
    },
    {
      "cell_type": "code",
      "execution_count": 11,
      "metadata": {
        "id": "Jd_JMR3dVdEO"
      },
      "outputs": [],
      "source": [
        "import pandas as pd\n",
        "import numpy as np\n",
        "import matplotlib.pyplot as plt\n",
        "import seaborn as sns\n",
        "from sklearn.impute import SimpleImputer\n",
        "from sklearn.preprocessing import StandardScaler\n",
        "from sklearn.decomposition import PCA\n",
        "from sklearn import svm\n",
        "from sklearn.model_selection import train_test_split\n",
        "from sklearn import metrics\n",
        "from sklearn.metrics import classification_report\n",
        "from sklearn.model_selection import GridSearchCV\n",
        "\n",
        "%matplotlib inline"
      ]
    },
    {
      "cell_type": "markdown",
      "source": [
        "## Load the dataset"
      ],
      "metadata": {
        "id": "maLWkyAyEzo2"
      }
    },
    {
      "cell_type": "code",
      "source": [
        "vehicle_df = pd.read_csv('vehicle.csv')\n",
        "vehicle_df.head()"
      ],
      "metadata": {
        "colab": {
          "base_uri": "https://localhost:8080/",
          "height": 226
        },
        "id": "5-DtYHsKV02f",
        "outputId": "e8c26502-d4e3-4716-9da2-b4b95ebdfcb8"
      },
      "execution_count": 2,
      "outputs": [
        {
          "output_type": "execute_result",
          "data": {
            "text/plain": [
              "   compactness  circularity  distance_circularity  radius_ratio  \\\n",
              "0           95         48.0                  83.0         178.0   \n",
              "1           91         41.0                  84.0         141.0   \n",
              "2          104         50.0                 106.0         209.0   \n",
              "3           93         41.0                  82.0         159.0   \n",
              "4           85         44.0                  70.0         205.0   \n",
              "\n",
              "   pr.axis_aspect_ratio  max.length_aspect_ratio  scatter_ratio  \\\n",
              "0                  72.0                       10          162.0   \n",
              "1                  57.0                        9          149.0   \n",
              "2                  66.0                       10          207.0   \n",
              "3                  63.0                        9          144.0   \n",
              "4                 103.0                       52          149.0   \n",
              "\n",
              "   elongatedness  pr.axis_rectangularity  max.length_rectangularity  \\\n",
              "0           42.0                    20.0                        159   \n",
              "1           45.0                    19.0                        143   \n",
              "2           32.0                    23.0                        158   \n",
              "3           46.0                    19.0                        143   \n",
              "4           45.0                    19.0                        144   \n",
              "\n",
              "   scaled_variance  scaled_variance.1  scaled_radius_of_gyration  \\\n",
              "0            176.0              379.0                      184.0   \n",
              "1            170.0              330.0                      158.0   \n",
              "2            223.0              635.0                      220.0   \n",
              "3            160.0              309.0                      127.0   \n",
              "4            241.0              325.0                      188.0   \n",
              "\n",
              "   scaled_radius_of_gyration.1  skewness_about  skewness_about.1  \\\n",
              "0                         70.0             6.0              16.0   \n",
              "1                         72.0             9.0              14.0   \n",
              "2                         73.0            14.0               9.0   \n",
              "3                         63.0             6.0              10.0   \n",
              "4                        127.0             9.0              11.0   \n",
              "\n",
              "   skewness_about.2  hollows_ratio class  \n",
              "0             187.0            197   van  \n",
              "1             189.0            199   van  \n",
              "2             188.0            196   car  \n",
              "3             199.0            207   van  \n",
              "4             180.0            183   bus  "
            ],
            "text/html": [
              "\n",
              "  <div id=\"df-4b37618e-b67c-49d3-853c-285c8b2e8e47\" class=\"colab-df-container\">\n",
              "    <div>\n",
              "<style scoped>\n",
              "    .dataframe tbody tr th:only-of-type {\n",
              "        vertical-align: middle;\n",
              "    }\n",
              "\n",
              "    .dataframe tbody tr th {\n",
              "        vertical-align: top;\n",
              "    }\n",
              "\n",
              "    .dataframe thead th {\n",
              "        text-align: right;\n",
              "    }\n",
              "</style>\n",
              "<table border=\"1\" class=\"dataframe\">\n",
              "  <thead>\n",
              "    <tr style=\"text-align: right;\">\n",
              "      <th></th>\n",
              "      <th>compactness</th>\n",
              "      <th>circularity</th>\n",
              "      <th>distance_circularity</th>\n",
              "      <th>radius_ratio</th>\n",
              "      <th>pr.axis_aspect_ratio</th>\n",
              "      <th>max.length_aspect_ratio</th>\n",
              "      <th>scatter_ratio</th>\n",
              "      <th>elongatedness</th>\n",
              "      <th>pr.axis_rectangularity</th>\n",
              "      <th>max.length_rectangularity</th>\n",
              "      <th>scaled_variance</th>\n",
              "      <th>scaled_variance.1</th>\n",
              "      <th>scaled_radius_of_gyration</th>\n",
              "      <th>scaled_radius_of_gyration.1</th>\n",
              "      <th>skewness_about</th>\n",
              "      <th>skewness_about.1</th>\n",
              "      <th>skewness_about.2</th>\n",
              "      <th>hollows_ratio</th>\n",
              "      <th>class</th>\n",
              "    </tr>\n",
              "  </thead>\n",
              "  <tbody>\n",
              "    <tr>\n",
              "      <th>0</th>\n",
              "      <td>95</td>\n",
              "      <td>48.0</td>\n",
              "      <td>83.0</td>\n",
              "      <td>178.0</td>\n",
              "      <td>72.0</td>\n",
              "      <td>10</td>\n",
              "      <td>162.0</td>\n",
              "      <td>42.0</td>\n",
              "      <td>20.0</td>\n",
              "      <td>159</td>\n",
              "      <td>176.0</td>\n",
              "      <td>379.0</td>\n",
              "      <td>184.0</td>\n",
              "      <td>70.0</td>\n",
              "      <td>6.0</td>\n",
              "      <td>16.0</td>\n",
              "      <td>187.0</td>\n",
              "      <td>197</td>\n",
              "      <td>van</td>\n",
              "    </tr>\n",
              "    <tr>\n",
              "      <th>1</th>\n",
              "      <td>91</td>\n",
              "      <td>41.0</td>\n",
              "      <td>84.0</td>\n",
              "      <td>141.0</td>\n",
              "      <td>57.0</td>\n",
              "      <td>9</td>\n",
              "      <td>149.0</td>\n",
              "      <td>45.0</td>\n",
              "      <td>19.0</td>\n",
              "      <td>143</td>\n",
              "      <td>170.0</td>\n",
              "      <td>330.0</td>\n",
              "      <td>158.0</td>\n",
              "      <td>72.0</td>\n",
              "      <td>9.0</td>\n",
              "      <td>14.0</td>\n",
              "      <td>189.0</td>\n",
              "      <td>199</td>\n",
              "      <td>van</td>\n",
              "    </tr>\n",
              "    <tr>\n",
              "      <th>2</th>\n",
              "      <td>104</td>\n",
              "      <td>50.0</td>\n",
              "      <td>106.0</td>\n",
              "      <td>209.0</td>\n",
              "      <td>66.0</td>\n",
              "      <td>10</td>\n",
              "      <td>207.0</td>\n",
              "      <td>32.0</td>\n",
              "      <td>23.0</td>\n",
              "      <td>158</td>\n",
              "      <td>223.0</td>\n",
              "      <td>635.0</td>\n",
              "      <td>220.0</td>\n",
              "      <td>73.0</td>\n",
              "      <td>14.0</td>\n",
              "      <td>9.0</td>\n",
              "      <td>188.0</td>\n",
              "      <td>196</td>\n",
              "      <td>car</td>\n",
              "    </tr>\n",
              "    <tr>\n",
              "      <th>3</th>\n",
              "      <td>93</td>\n",
              "      <td>41.0</td>\n",
              "      <td>82.0</td>\n",
              "      <td>159.0</td>\n",
              "      <td>63.0</td>\n",
              "      <td>9</td>\n",
              "      <td>144.0</td>\n",
              "      <td>46.0</td>\n",
              "      <td>19.0</td>\n",
              "      <td>143</td>\n",
              "      <td>160.0</td>\n",
              "      <td>309.0</td>\n",
              "      <td>127.0</td>\n",
              "      <td>63.0</td>\n",
              "      <td>6.0</td>\n",
              "      <td>10.0</td>\n",
              "      <td>199.0</td>\n",
              "      <td>207</td>\n",
              "      <td>van</td>\n",
              "    </tr>\n",
              "    <tr>\n",
              "      <th>4</th>\n",
              "      <td>85</td>\n",
              "      <td>44.0</td>\n",
              "      <td>70.0</td>\n",
              "      <td>205.0</td>\n",
              "      <td>103.0</td>\n",
              "      <td>52</td>\n",
              "      <td>149.0</td>\n",
              "      <td>45.0</td>\n",
              "      <td>19.0</td>\n",
              "      <td>144</td>\n",
              "      <td>241.0</td>\n",
              "      <td>325.0</td>\n",
              "      <td>188.0</td>\n",
              "      <td>127.0</td>\n",
              "      <td>9.0</td>\n",
              "      <td>11.0</td>\n",
              "      <td>180.0</td>\n",
              "      <td>183</td>\n",
              "      <td>bus</td>\n",
              "    </tr>\n",
              "  </tbody>\n",
              "</table>\n",
              "</div>\n",
              "    <div class=\"colab-df-buttons\">\n",
              "\n",
              "  <div class=\"colab-df-container\">\n",
              "    <button class=\"colab-df-convert\" onclick=\"convertToInteractive('df-4b37618e-b67c-49d3-853c-285c8b2e8e47')\"\n",
              "            title=\"Convert this dataframe to an interactive table.\"\n",
              "            style=\"display:none;\">\n",
              "\n",
              "  <svg xmlns=\"http://www.w3.org/2000/svg\" height=\"24px\" viewBox=\"0 -960 960 960\">\n",
              "    <path d=\"M120-120v-720h720v720H120Zm60-500h600v-160H180v160Zm220 220h160v-160H400v160Zm0 220h160v-160H400v160ZM180-400h160v-160H180v160Zm440 0h160v-160H620v160ZM180-180h160v-160H180v160Zm440 0h160v-160H620v160Z\"/>\n",
              "  </svg>\n",
              "    </button>\n",
              "\n",
              "  <style>\n",
              "    .colab-df-container {\n",
              "      display:flex;\n",
              "      gap: 12px;\n",
              "    }\n",
              "\n",
              "    .colab-df-convert {\n",
              "      background-color: #E8F0FE;\n",
              "      border: none;\n",
              "      border-radius: 50%;\n",
              "      cursor: pointer;\n",
              "      display: none;\n",
              "      fill: #1967D2;\n",
              "      height: 32px;\n",
              "      padding: 0 0 0 0;\n",
              "      width: 32px;\n",
              "    }\n",
              "\n",
              "    .colab-df-convert:hover {\n",
              "      background-color: #E2EBFA;\n",
              "      box-shadow: 0px 1px 2px rgba(60, 64, 67, 0.3), 0px 1px 3px 1px rgba(60, 64, 67, 0.15);\n",
              "      fill: #174EA6;\n",
              "    }\n",
              "\n",
              "    .colab-df-buttons div {\n",
              "      margin-bottom: 4px;\n",
              "    }\n",
              "\n",
              "    [theme=dark] .colab-df-convert {\n",
              "      background-color: #3B4455;\n",
              "      fill: #D2E3FC;\n",
              "    }\n",
              "\n",
              "    [theme=dark] .colab-df-convert:hover {\n",
              "      background-color: #434B5C;\n",
              "      box-shadow: 0px 1px 3px 1px rgba(0, 0, 0, 0.15);\n",
              "      filter: drop-shadow(0px 1px 2px rgba(0, 0, 0, 0.3));\n",
              "      fill: #FFFFFF;\n",
              "    }\n",
              "  </style>\n",
              "\n",
              "    <script>\n",
              "      const buttonEl =\n",
              "        document.querySelector('#df-4b37618e-b67c-49d3-853c-285c8b2e8e47 button.colab-df-convert');\n",
              "      buttonEl.style.display =\n",
              "        google.colab.kernel.accessAllowed ? 'block' : 'none';\n",
              "\n",
              "      async function convertToInteractive(key) {\n",
              "        const element = document.querySelector('#df-4b37618e-b67c-49d3-853c-285c8b2e8e47');\n",
              "        const dataTable =\n",
              "          await google.colab.kernel.invokeFunction('convertToInteractive',\n",
              "                                                    [key], {});\n",
              "        if (!dataTable) return;\n",
              "\n",
              "        const docLinkHtml = 'Like what you see? Visit the ' +\n",
              "          '<a target=\"_blank\" href=https://colab.research.google.com/notebooks/data_table.ipynb>data table notebook</a>'\n",
              "          + ' to learn more about interactive tables.';\n",
              "        element.innerHTML = '';\n",
              "        dataTable['output_type'] = 'display_data';\n",
              "        await google.colab.output.renderOutput(dataTable, element);\n",
              "        const docLink = document.createElement('div');\n",
              "        docLink.innerHTML = docLinkHtml;\n",
              "        element.appendChild(docLink);\n",
              "      }\n",
              "    </script>\n",
              "  </div>\n",
              "\n",
              "\n",
              "<div id=\"df-3fdc6964-cc69-4f2d-9efa-1962da2e5d24\">\n",
              "  <button class=\"colab-df-quickchart\" onclick=\"quickchart('df-3fdc6964-cc69-4f2d-9efa-1962da2e5d24')\"\n",
              "            title=\"Suggest charts\"\n",
              "            style=\"display:none;\">\n",
              "\n",
              "<svg xmlns=\"http://www.w3.org/2000/svg\" height=\"24px\"viewBox=\"0 0 24 24\"\n",
              "     width=\"24px\">\n",
              "    <g>\n",
              "        <path d=\"M19 3H5c-1.1 0-2 .9-2 2v14c0 1.1.9 2 2 2h14c1.1 0 2-.9 2-2V5c0-1.1-.9-2-2-2zM9 17H7v-7h2v7zm4 0h-2V7h2v10zm4 0h-2v-4h2v4z\"/>\n",
              "    </g>\n",
              "</svg>\n",
              "  </button>\n",
              "\n",
              "<style>\n",
              "  .colab-df-quickchart {\n",
              "      --bg-color: #E8F0FE;\n",
              "      --fill-color: #1967D2;\n",
              "      --hover-bg-color: #E2EBFA;\n",
              "      --hover-fill-color: #174EA6;\n",
              "      --disabled-fill-color: #AAA;\n",
              "      --disabled-bg-color: #DDD;\n",
              "  }\n",
              "\n",
              "  [theme=dark] .colab-df-quickchart {\n",
              "      --bg-color: #3B4455;\n",
              "      --fill-color: #D2E3FC;\n",
              "      --hover-bg-color: #434B5C;\n",
              "      --hover-fill-color: #FFFFFF;\n",
              "      --disabled-bg-color: #3B4455;\n",
              "      --disabled-fill-color: #666;\n",
              "  }\n",
              "\n",
              "  .colab-df-quickchart {\n",
              "    background-color: var(--bg-color);\n",
              "    border: none;\n",
              "    border-radius: 50%;\n",
              "    cursor: pointer;\n",
              "    display: none;\n",
              "    fill: var(--fill-color);\n",
              "    height: 32px;\n",
              "    padding: 0;\n",
              "    width: 32px;\n",
              "  }\n",
              "\n",
              "  .colab-df-quickchart:hover {\n",
              "    background-color: var(--hover-bg-color);\n",
              "    box-shadow: 0 1px 2px rgba(60, 64, 67, 0.3), 0 1px 3px 1px rgba(60, 64, 67, 0.15);\n",
              "    fill: var(--button-hover-fill-color);\n",
              "  }\n",
              "\n",
              "  .colab-df-quickchart-complete:disabled,\n",
              "  .colab-df-quickchart-complete:disabled:hover {\n",
              "    background-color: var(--disabled-bg-color);\n",
              "    fill: var(--disabled-fill-color);\n",
              "    box-shadow: none;\n",
              "  }\n",
              "\n",
              "  .colab-df-spinner {\n",
              "    border: 2px solid var(--fill-color);\n",
              "    border-color: transparent;\n",
              "    border-bottom-color: var(--fill-color);\n",
              "    animation:\n",
              "      spin 1s steps(1) infinite;\n",
              "  }\n",
              "\n",
              "  @keyframes spin {\n",
              "    0% {\n",
              "      border-color: transparent;\n",
              "      border-bottom-color: var(--fill-color);\n",
              "      border-left-color: var(--fill-color);\n",
              "    }\n",
              "    20% {\n",
              "      border-color: transparent;\n",
              "      border-left-color: var(--fill-color);\n",
              "      border-top-color: var(--fill-color);\n",
              "    }\n",
              "    30% {\n",
              "      border-color: transparent;\n",
              "      border-left-color: var(--fill-color);\n",
              "      border-top-color: var(--fill-color);\n",
              "      border-right-color: var(--fill-color);\n",
              "    }\n",
              "    40% {\n",
              "      border-color: transparent;\n",
              "      border-right-color: var(--fill-color);\n",
              "      border-top-color: var(--fill-color);\n",
              "    }\n",
              "    60% {\n",
              "      border-color: transparent;\n",
              "      border-right-color: var(--fill-color);\n",
              "    }\n",
              "    80% {\n",
              "      border-color: transparent;\n",
              "      border-right-color: var(--fill-color);\n",
              "      border-bottom-color: var(--fill-color);\n",
              "    }\n",
              "    90% {\n",
              "      border-color: transparent;\n",
              "      border-bottom-color: var(--fill-color);\n",
              "    }\n",
              "  }\n",
              "</style>\n",
              "\n",
              "  <script>\n",
              "    async function quickchart(key) {\n",
              "      const quickchartButtonEl =\n",
              "        document.querySelector('#' + key + ' button');\n",
              "      quickchartButtonEl.disabled = true;  // To prevent multiple clicks.\n",
              "      quickchartButtonEl.classList.add('colab-df-spinner');\n",
              "      try {\n",
              "        const charts = await google.colab.kernel.invokeFunction(\n",
              "            'suggestCharts', [key], {});\n",
              "      } catch (error) {\n",
              "        console.error('Error during call to suggestCharts:', error);\n",
              "      }\n",
              "      quickchartButtonEl.classList.remove('colab-df-spinner');\n",
              "      quickchartButtonEl.classList.add('colab-df-quickchart-complete');\n",
              "    }\n",
              "    (() => {\n",
              "      let quickchartButtonEl =\n",
              "        document.querySelector('#df-3fdc6964-cc69-4f2d-9efa-1962da2e5d24 button');\n",
              "      quickchartButtonEl.style.display =\n",
              "        google.colab.kernel.accessAllowed ? 'block' : 'none';\n",
              "    })();\n",
              "  </script>\n",
              "</div>\n",
              "\n",
              "    </div>\n",
              "  </div>\n"
            ],
            "application/vnd.google.colaboratory.intrinsic+json": {
              "type": "dataframe",
              "variable_name": "vehicle_df",
              "summary": "{\n  \"name\": \"vehicle_df\",\n  \"rows\": 846,\n  \"fields\": [\n    {\n      \"column\": \"compactness\",\n      \"properties\": {\n        \"dtype\": \"number\",\n        \"std\": 8,\n        \"min\": 73,\n        \"max\": 119,\n        \"num_unique_values\": 44,\n        \"samples\": [\n          112,\n          119,\n          78\n        ],\n        \"semantic_type\": \"\",\n        \"description\": \"\"\n      }\n    },\n    {\n      \"column\": \"circularity\",\n      \"properties\": {\n        \"dtype\": \"number\",\n        \"std\": 6.152171861813708,\n        \"min\": 33.0,\n        \"max\": 59.0,\n        \"num_unique_values\": 27,\n        \"samples\": [\n          42.0,\n          47.0,\n          49.0\n        ],\n        \"semantic_type\": \"\",\n        \"description\": \"\"\n      }\n    },\n    {\n      \"column\": \"distance_circularity\",\n      \"properties\": {\n        \"dtype\": \"number\",\n        \"std\": 15.778291805673968,\n        \"min\": 40.0,\n        \"max\": 112.0,\n        \"num_unique_values\": 63,\n        \"samples\": [\n          52.0,\n          61.0,\n          83.0\n        ],\n        \"semantic_type\": \"\",\n        \"description\": \"\"\n      }\n    },\n    {\n      \"column\": \"radius_ratio\",\n      \"properties\": {\n        \"dtype\": \"number\",\n        \"std\": 33.52019797334268,\n        \"min\": 104.0,\n        \"max\": 333.0,\n        \"num_unique_values\": 134,\n        \"samples\": [\n          104.0,\n          116.0,\n          132.0\n        ],\n        \"semantic_type\": \"\",\n        \"description\": \"\"\n      }\n    },\n    {\n      \"column\": \"pr.axis_aspect_ratio\",\n      \"properties\": {\n        \"dtype\": \"number\",\n        \"std\": 7.891463065900406,\n        \"min\": 47.0,\n        \"max\": 138.0,\n        \"num_unique_values\": 37,\n        \"samples\": [\n          67.0,\n          52.0,\n          103.0\n        ],\n        \"semantic_type\": \"\",\n        \"description\": \"\"\n      }\n    },\n    {\n      \"column\": \"max.length_aspect_ratio\",\n      \"properties\": {\n        \"dtype\": \"number\",\n        \"std\": 4,\n        \"min\": 2,\n        \"max\": 55,\n        \"num_unique_values\": 21,\n        \"samples\": [\n          10,\n          46,\n          43\n        ],\n        \"semantic_type\": \"\",\n        \"description\": \"\"\n      }\n    },\n    {\n      \"column\": \"scatter_ratio\",\n      \"properties\": {\n        \"dtype\": \"number\",\n        \"std\": 33.214847921336826,\n        \"min\": 112.0,\n        \"max\": 265.0,\n        \"num_unique_values\": 131,\n        \"samples\": [\n          127.0,\n          163.0,\n          150.0\n        ],\n        \"semantic_type\": \"\",\n        \"description\": \"\"\n      }\n    },\n    {\n      \"column\": \"elongatedness\",\n      \"properties\": {\n        \"dtype\": \"number\",\n        \"std\": 7.816185718829104,\n        \"min\": 26.0,\n        \"max\": 61.0,\n        \"num_unique_values\": 35,\n        \"samples\": [\n          39.0,\n          31.0,\n          38.0\n        ],\n        \"semantic_type\": \"\",\n        \"description\": \"\"\n      }\n    },\n    {\n      \"column\": \"pr.axis_rectangularity\",\n      \"properties\": {\n        \"dtype\": \"number\",\n        \"std\": 2.592933061215586,\n        \"min\": 17.0,\n        \"max\": 29.0,\n        \"num_unique_values\": 13,\n        \"samples\": [\n          26.0,\n          25.0,\n          20.0\n        ],\n        \"semantic_type\": \"\",\n        \"description\": \"\"\n      }\n    },\n    {\n      \"column\": \"max.length_rectangularity\",\n      \"properties\": {\n        \"dtype\": \"number\",\n        \"std\": 14,\n        \"min\": 118,\n        \"max\": 188,\n        \"num_unique_values\": 66,\n        \"samples\": [\n          149,\n          182,\n          159\n        ],\n        \"semantic_type\": \"\",\n        \"description\": \"\"\n      }\n    },\n    {\n      \"column\": \"scaled_variance\",\n      \"properties\": {\n        \"dtype\": \"number\",\n        \"std\": 31.41100359640083,\n        \"min\": 130.0,\n        \"max\": 320.0,\n        \"num_unique_values\": 128,\n        \"samples\": [\n          218.0,\n          154.0,\n          164.0\n        ],\n        \"semantic_type\": \"\",\n        \"description\": \"\"\n      }\n    },\n    {\n      \"column\": \"scaled_variance.1\",\n      \"properties\": {\n        \"dtype\": \"number\",\n        \"std\": 176.66690269589355,\n        \"min\": 184.0,\n        \"max\": 1018.0,\n        \"num_unique_values\": 422,\n        \"samples\": [\n          674.0,\n          677.0,\n          274.0\n        ],\n        \"semantic_type\": \"\",\n        \"description\": \"\"\n      }\n    },\n    {\n      \"column\": \"scaled_radius_of_gyration\",\n      \"properties\": {\n        \"dtype\": \"number\",\n        \"std\": 32.58480823264772,\n        \"min\": 109.0,\n        \"max\": 268.0,\n        \"num_unique_values\": 143,\n        \"samples\": [\n          261.0,\n          177.0,\n          115.0\n        ],\n        \"semantic_type\": \"\",\n        \"description\": \"\"\n      }\n    },\n    {\n      \"column\": \"scaled_radius_of_gyration.1\",\n      \"properties\": {\n        \"dtype\": \"number\",\n        \"std\": 7.4861902756045,\n        \"min\": 59.0,\n        \"max\": 135.0,\n        \"num_unique_values\": 39,\n        \"samples\": [\n          90.0,\n          91.0,\n          127.0\n        ],\n        \"semantic_type\": \"\",\n        \"description\": \"\"\n      }\n    },\n    {\n      \"column\": \"skewness_about\",\n      \"properties\": {\n        \"dtype\": \"number\",\n        \"std\": 4.920649076276183,\n        \"min\": 0.0,\n        \"max\": 22.0,\n        \"num_unique_values\": 23,\n        \"samples\": [\n          18.0,\n          0.0,\n          6.0\n        ],\n        \"semantic_type\": \"\",\n        \"description\": \"\"\n      }\n    },\n    {\n      \"column\": \"skewness_about.1\",\n      \"properties\": {\n        \"dtype\": \"number\",\n        \"std\": 8.936081294039766,\n        \"min\": 0.0,\n        \"max\": 41.0,\n        \"num_unique_values\": 41,\n        \"samples\": [\n          23.0,\n          28.0,\n          13.0\n        ],\n        \"semantic_type\": \"\",\n        \"description\": \"\"\n      }\n    },\n    {\n      \"column\": \"skewness_about.2\",\n      \"properties\": {\n        \"dtype\": \"number\",\n        \"std\": 6.1558094753638795,\n        \"min\": 176.0,\n        \"max\": 206.0,\n        \"num_unique_values\": 30,\n        \"samples\": [\n          177.0,\n          179.0,\n          182.0\n        ],\n        \"semantic_type\": \"\",\n        \"description\": \"\"\n      }\n    },\n    {\n      \"column\": \"hollows_ratio\",\n      \"properties\": {\n        \"dtype\": \"number\",\n        \"std\": 7,\n        \"min\": 181,\n        \"max\": 211,\n        \"num_unique_values\": 31,\n        \"samples\": [\n          186,\n          205,\n          198\n        ],\n        \"semantic_type\": \"\",\n        \"description\": \"\"\n      }\n    },\n    {\n      \"column\": \"class\",\n      \"properties\": {\n        \"dtype\": \"category\",\n        \"num_unique_values\": 3,\n        \"samples\": [\n          \"van\",\n          \"car\",\n          \"bus\"\n        ],\n        \"semantic_type\": \"\",\n        \"description\": \"\"\n      }\n    }\n  ]\n}"
            }
          },
          "metadata": {},
          "execution_count": 2
        }
      ]
    },
    {
      "cell_type": "code",
      "source": [
        "vehicle_df.info()"
      ],
      "metadata": {
        "colab": {
          "base_uri": "https://localhost:8080/"
        },
        "id": "P3SkIYpIbiDw",
        "outputId": "e0615384-abc8-49c9-d044-dc7399d9b192"
      },
      "execution_count": 3,
      "outputs": [
        {
          "output_type": "stream",
          "name": "stdout",
          "text": [
            "<class 'pandas.core.frame.DataFrame'>\n",
            "RangeIndex: 846 entries, 0 to 845\n",
            "Data columns (total 19 columns):\n",
            " #   Column                       Non-Null Count  Dtype  \n",
            "---  ------                       --------------  -----  \n",
            " 0   compactness                  846 non-null    int64  \n",
            " 1   circularity                  841 non-null    float64\n",
            " 2   distance_circularity         842 non-null    float64\n",
            " 3   radius_ratio                 840 non-null    float64\n",
            " 4   pr.axis_aspect_ratio         844 non-null    float64\n",
            " 5   max.length_aspect_ratio      846 non-null    int64  \n",
            " 6   scatter_ratio                845 non-null    float64\n",
            " 7   elongatedness                845 non-null    float64\n",
            " 8   pr.axis_rectangularity       843 non-null    float64\n",
            " 9   max.length_rectangularity    846 non-null    int64  \n",
            " 10  scaled_variance              843 non-null    float64\n",
            " 11  scaled_variance.1            844 non-null    float64\n",
            " 12  scaled_radius_of_gyration    844 non-null    float64\n",
            " 13  scaled_radius_of_gyration.1  842 non-null    float64\n",
            " 14  skewness_about               840 non-null    float64\n",
            " 15  skewness_about.1             845 non-null    float64\n",
            " 16  skewness_about.2             845 non-null    float64\n",
            " 17  hollows_ratio                846 non-null    int64  \n",
            " 18  class                        846 non-null    object \n",
            "dtypes: float64(14), int64(4), object(1)\n",
            "memory usage: 125.7+ KB\n"
          ]
        }
      ]
    },
    {
      "cell_type": "code",
      "source": [
        "vehicle_df.describe()"
      ],
      "metadata": {
        "colab": {
          "base_uri": "https://localhost:8080/",
          "height": 320
        },
        "id": "lq5taaW3bmfE",
        "outputId": "5e707252-b1ef-432c-b299-1f250969e53f"
      },
      "execution_count": 4,
      "outputs": [
        {
          "output_type": "execute_result",
          "data": {
            "text/plain": [
              "       compactness  circularity  distance_circularity  radius_ratio  \\\n",
              "count   846.000000   841.000000            842.000000    840.000000   \n",
              "mean     93.678487    44.828775             82.110451    168.888095   \n",
              "std       8.234474     6.152172             15.778292     33.520198   \n",
              "min      73.000000    33.000000             40.000000    104.000000   \n",
              "25%      87.000000    40.000000             70.000000    141.000000   \n",
              "50%      93.000000    44.000000             80.000000    167.000000   \n",
              "75%     100.000000    49.000000             98.000000    195.000000   \n",
              "max     119.000000    59.000000            112.000000    333.000000   \n",
              "\n",
              "       pr.axis_aspect_ratio  max.length_aspect_ratio  scatter_ratio  \\\n",
              "count            844.000000               846.000000     845.000000   \n",
              "mean              61.678910                 8.567376     168.901775   \n",
              "std                7.891463                 4.601217      33.214848   \n",
              "min               47.000000                 2.000000     112.000000   \n",
              "25%               57.000000                 7.000000     147.000000   \n",
              "50%               61.000000                 8.000000     157.000000   \n",
              "75%               65.000000                10.000000     198.000000   \n",
              "max              138.000000                55.000000     265.000000   \n",
              "\n",
              "       elongatedness  pr.axis_rectangularity  max.length_rectangularity  \\\n",
              "count     845.000000              843.000000                 846.000000   \n",
              "mean       40.933728               20.582444                 147.998818   \n",
              "std         7.816186                2.592933                  14.515652   \n",
              "min        26.000000               17.000000                 118.000000   \n",
              "25%        33.000000               19.000000                 137.000000   \n",
              "50%        43.000000               20.000000                 146.000000   \n",
              "75%        46.000000               23.000000                 159.000000   \n",
              "max        61.000000               29.000000                 188.000000   \n",
              "\n",
              "       scaled_variance  scaled_variance.1  scaled_radius_of_gyration  \\\n",
              "count       843.000000         844.000000                 844.000000   \n",
              "mean        188.631079         439.494076                 174.709716   \n",
              "std          31.411004         176.666903                  32.584808   \n",
              "min         130.000000         184.000000                 109.000000   \n",
              "25%         167.000000         318.000000                 149.000000   \n",
              "50%         179.000000         363.500000                 173.500000   \n",
              "75%         217.000000         587.000000                 198.000000   \n",
              "max         320.000000        1018.000000                 268.000000   \n",
              "\n",
              "       scaled_radius_of_gyration.1  skewness_about  skewness_about.1  \\\n",
              "count                   842.000000      840.000000        845.000000   \n",
              "mean                     72.447743        6.364286         12.602367   \n",
              "std                       7.486190        4.920649          8.936081   \n",
              "min                      59.000000        0.000000          0.000000   \n",
              "25%                      67.000000        2.000000          5.000000   \n",
              "50%                      71.500000        6.000000         11.000000   \n",
              "75%                      75.000000        9.000000         19.000000   \n",
              "max                     135.000000       22.000000         41.000000   \n",
              "\n",
              "       skewness_about.2  hollows_ratio  \n",
              "count        845.000000     846.000000  \n",
              "mean         188.919527     195.632388  \n",
              "std            6.155809       7.438797  \n",
              "min          176.000000     181.000000  \n",
              "25%          184.000000     190.250000  \n",
              "50%          188.000000     197.000000  \n",
              "75%          193.000000     201.000000  \n",
              "max          206.000000     211.000000  "
            ],
            "text/html": [
              "\n",
              "  <div id=\"df-efcdee63-9381-4c6c-8d34-2c637638ca21\" class=\"colab-df-container\">\n",
              "    <div>\n",
              "<style scoped>\n",
              "    .dataframe tbody tr th:only-of-type {\n",
              "        vertical-align: middle;\n",
              "    }\n",
              "\n",
              "    .dataframe tbody tr th {\n",
              "        vertical-align: top;\n",
              "    }\n",
              "\n",
              "    .dataframe thead th {\n",
              "        text-align: right;\n",
              "    }\n",
              "</style>\n",
              "<table border=\"1\" class=\"dataframe\">\n",
              "  <thead>\n",
              "    <tr style=\"text-align: right;\">\n",
              "      <th></th>\n",
              "      <th>compactness</th>\n",
              "      <th>circularity</th>\n",
              "      <th>distance_circularity</th>\n",
              "      <th>radius_ratio</th>\n",
              "      <th>pr.axis_aspect_ratio</th>\n",
              "      <th>max.length_aspect_ratio</th>\n",
              "      <th>scatter_ratio</th>\n",
              "      <th>elongatedness</th>\n",
              "      <th>pr.axis_rectangularity</th>\n",
              "      <th>max.length_rectangularity</th>\n",
              "      <th>scaled_variance</th>\n",
              "      <th>scaled_variance.1</th>\n",
              "      <th>scaled_radius_of_gyration</th>\n",
              "      <th>scaled_radius_of_gyration.1</th>\n",
              "      <th>skewness_about</th>\n",
              "      <th>skewness_about.1</th>\n",
              "      <th>skewness_about.2</th>\n",
              "      <th>hollows_ratio</th>\n",
              "    </tr>\n",
              "  </thead>\n",
              "  <tbody>\n",
              "    <tr>\n",
              "      <th>count</th>\n",
              "      <td>846.000000</td>\n",
              "      <td>841.000000</td>\n",
              "      <td>842.000000</td>\n",
              "      <td>840.000000</td>\n",
              "      <td>844.000000</td>\n",
              "      <td>846.000000</td>\n",
              "      <td>845.000000</td>\n",
              "      <td>845.000000</td>\n",
              "      <td>843.000000</td>\n",
              "      <td>846.000000</td>\n",
              "      <td>843.000000</td>\n",
              "      <td>844.000000</td>\n",
              "      <td>844.000000</td>\n",
              "      <td>842.000000</td>\n",
              "      <td>840.000000</td>\n",
              "      <td>845.000000</td>\n",
              "      <td>845.000000</td>\n",
              "      <td>846.000000</td>\n",
              "    </tr>\n",
              "    <tr>\n",
              "      <th>mean</th>\n",
              "      <td>93.678487</td>\n",
              "      <td>44.828775</td>\n",
              "      <td>82.110451</td>\n",
              "      <td>168.888095</td>\n",
              "      <td>61.678910</td>\n",
              "      <td>8.567376</td>\n",
              "      <td>168.901775</td>\n",
              "      <td>40.933728</td>\n",
              "      <td>20.582444</td>\n",
              "      <td>147.998818</td>\n",
              "      <td>188.631079</td>\n",
              "      <td>439.494076</td>\n",
              "      <td>174.709716</td>\n",
              "      <td>72.447743</td>\n",
              "      <td>6.364286</td>\n",
              "      <td>12.602367</td>\n",
              "      <td>188.919527</td>\n",
              "      <td>195.632388</td>\n",
              "    </tr>\n",
              "    <tr>\n",
              "      <th>std</th>\n",
              "      <td>8.234474</td>\n",
              "      <td>6.152172</td>\n",
              "      <td>15.778292</td>\n",
              "      <td>33.520198</td>\n",
              "      <td>7.891463</td>\n",
              "      <td>4.601217</td>\n",
              "      <td>33.214848</td>\n",
              "      <td>7.816186</td>\n",
              "      <td>2.592933</td>\n",
              "      <td>14.515652</td>\n",
              "      <td>31.411004</td>\n",
              "      <td>176.666903</td>\n",
              "      <td>32.584808</td>\n",
              "      <td>7.486190</td>\n",
              "      <td>4.920649</td>\n",
              "      <td>8.936081</td>\n",
              "      <td>6.155809</td>\n",
              "      <td>7.438797</td>\n",
              "    </tr>\n",
              "    <tr>\n",
              "      <th>min</th>\n",
              "      <td>73.000000</td>\n",
              "      <td>33.000000</td>\n",
              "      <td>40.000000</td>\n",
              "      <td>104.000000</td>\n",
              "      <td>47.000000</td>\n",
              "      <td>2.000000</td>\n",
              "      <td>112.000000</td>\n",
              "      <td>26.000000</td>\n",
              "      <td>17.000000</td>\n",
              "      <td>118.000000</td>\n",
              "      <td>130.000000</td>\n",
              "      <td>184.000000</td>\n",
              "      <td>109.000000</td>\n",
              "      <td>59.000000</td>\n",
              "      <td>0.000000</td>\n",
              "      <td>0.000000</td>\n",
              "      <td>176.000000</td>\n",
              "      <td>181.000000</td>\n",
              "    </tr>\n",
              "    <tr>\n",
              "      <th>25%</th>\n",
              "      <td>87.000000</td>\n",
              "      <td>40.000000</td>\n",
              "      <td>70.000000</td>\n",
              "      <td>141.000000</td>\n",
              "      <td>57.000000</td>\n",
              "      <td>7.000000</td>\n",
              "      <td>147.000000</td>\n",
              "      <td>33.000000</td>\n",
              "      <td>19.000000</td>\n",
              "      <td>137.000000</td>\n",
              "      <td>167.000000</td>\n",
              "      <td>318.000000</td>\n",
              "      <td>149.000000</td>\n",
              "      <td>67.000000</td>\n",
              "      <td>2.000000</td>\n",
              "      <td>5.000000</td>\n",
              "      <td>184.000000</td>\n",
              "      <td>190.250000</td>\n",
              "    </tr>\n",
              "    <tr>\n",
              "      <th>50%</th>\n",
              "      <td>93.000000</td>\n",
              "      <td>44.000000</td>\n",
              "      <td>80.000000</td>\n",
              "      <td>167.000000</td>\n",
              "      <td>61.000000</td>\n",
              "      <td>8.000000</td>\n",
              "      <td>157.000000</td>\n",
              "      <td>43.000000</td>\n",
              "      <td>20.000000</td>\n",
              "      <td>146.000000</td>\n",
              "      <td>179.000000</td>\n",
              "      <td>363.500000</td>\n",
              "      <td>173.500000</td>\n",
              "      <td>71.500000</td>\n",
              "      <td>6.000000</td>\n",
              "      <td>11.000000</td>\n",
              "      <td>188.000000</td>\n",
              "      <td>197.000000</td>\n",
              "    </tr>\n",
              "    <tr>\n",
              "      <th>75%</th>\n",
              "      <td>100.000000</td>\n",
              "      <td>49.000000</td>\n",
              "      <td>98.000000</td>\n",
              "      <td>195.000000</td>\n",
              "      <td>65.000000</td>\n",
              "      <td>10.000000</td>\n",
              "      <td>198.000000</td>\n",
              "      <td>46.000000</td>\n",
              "      <td>23.000000</td>\n",
              "      <td>159.000000</td>\n",
              "      <td>217.000000</td>\n",
              "      <td>587.000000</td>\n",
              "      <td>198.000000</td>\n",
              "      <td>75.000000</td>\n",
              "      <td>9.000000</td>\n",
              "      <td>19.000000</td>\n",
              "      <td>193.000000</td>\n",
              "      <td>201.000000</td>\n",
              "    </tr>\n",
              "    <tr>\n",
              "      <th>max</th>\n",
              "      <td>119.000000</td>\n",
              "      <td>59.000000</td>\n",
              "      <td>112.000000</td>\n",
              "      <td>333.000000</td>\n",
              "      <td>138.000000</td>\n",
              "      <td>55.000000</td>\n",
              "      <td>265.000000</td>\n",
              "      <td>61.000000</td>\n",
              "      <td>29.000000</td>\n",
              "      <td>188.000000</td>\n",
              "      <td>320.000000</td>\n",
              "      <td>1018.000000</td>\n",
              "      <td>268.000000</td>\n",
              "      <td>135.000000</td>\n",
              "      <td>22.000000</td>\n",
              "      <td>41.000000</td>\n",
              "      <td>206.000000</td>\n",
              "      <td>211.000000</td>\n",
              "    </tr>\n",
              "  </tbody>\n",
              "</table>\n",
              "</div>\n",
              "    <div class=\"colab-df-buttons\">\n",
              "\n",
              "  <div class=\"colab-df-container\">\n",
              "    <button class=\"colab-df-convert\" onclick=\"convertToInteractive('df-efcdee63-9381-4c6c-8d34-2c637638ca21')\"\n",
              "            title=\"Convert this dataframe to an interactive table.\"\n",
              "            style=\"display:none;\">\n",
              "\n",
              "  <svg xmlns=\"http://www.w3.org/2000/svg\" height=\"24px\" viewBox=\"0 -960 960 960\">\n",
              "    <path d=\"M120-120v-720h720v720H120Zm60-500h600v-160H180v160Zm220 220h160v-160H400v160Zm0 220h160v-160H400v160ZM180-400h160v-160H180v160Zm440 0h160v-160H620v160ZM180-180h160v-160H180v160Zm440 0h160v-160H620v160Z\"/>\n",
              "  </svg>\n",
              "    </button>\n",
              "\n",
              "  <style>\n",
              "    .colab-df-container {\n",
              "      display:flex;\n",
              "      gap: 12px;\n",
              "    }\n",
              "\n",
              "    .colab-df-convert {\n",
              "      background-color: #E8F0FE;\n",
              "      border: none;\n",
              "      border-radius: 50%;\n",
              "      cursor: pointer;\n",
              "      display: none;\n",
              "      fill: #1967D2;\n",
              "      height: 32px;\n",
              "      padding: 0 0 0 0;\n",
              "      width: 32px;\n",
              "    }\n",
              "\n",
              "    .colab-df-convert:hover {\n",
              "      background-color: #E2EBFA;\n",
              "      box-shadow: 0px 1px 2px rgba(60, 64, 67, 0.3), 0px 1px 3px 1px rgba(60, 64, 67, 0.15);\n",
              "      fill: #174EA6;\n",
              "    }\n",
              "\n",
              "    .colab-df-buttons div {\n",
              "      margin-bottom: 4px;\n",
              "    }\n",
              "\n",
              "    [theme=dark] .colab-df-convert {\n",
              "      background-color: #3B4455;\n",
              "      fill: #D2E3FC;\n",
              "    }\n",
              "\n",
              "    [theme=dark] .colab-df-convert:hover {\n",
              "      background-color: #434B5C;\n",
              "      box-shadow: 0px 1px 3px 1px rgba(0, 0, 0, 0.15);\n",
              "      filter: drop-shadow(0px 1px 2px rgba(0, 0, 0, 0.3));\n",
              "      fill: #FFFFFF;\n",
              "    }\n",
              "  </style>\n",
              "\n",
              "    <script>\n",
              "      const buttonEl =\n",
              "        document.querySelector('#df-efcdee63-9381-4c6c-8d34-2c637638ca21 button.colab-df-convert');\n",
              "      buttonEl.style.display =\n",
              "        google.colab.kernel.accessAllowed ? 'block' : 'none';\n",
              "\n",
              "      async function convertToInteractive(key) {\n",
              "        const element = document.querySelector('#df-efcdee63-9381-4c6c-8d34-2c637638ca21');\n",
              "        const dataTable =\n",
              "          await google.colab.kernel.invokeFunction('convertToInteractive',\n",
              "                                                    [key], {});\n",
              "        if (!dataTable) return;\n",
              "\n",
              "        const docLinkHtml = 'Like what you see? Visit the ' +\n",
              "          '<a target=\"_blank\" href=https://colab.research.google.com/notebooks/data_table.ipynb>data table notebook</a>'\n",
              "          + ' to learn more about interactive tables.';\n",
              "        element.innerHTML = '';\n",
              "        dataTable['output_type'] = 'display_data';\n",
              "        await google.colab.output.renderOutput(dataTable, element);\n",
              "        const docLink = document.createElement('div');\n",
              "        docLink.innerHTML = docLinkHtml;\n",
              "        element.appendChild(docLink);\n",
              "      }\n",
              "    </script>\n",
              "  </div>\n",
              "\n",
              "\n",
              "<div id=\"df-396132a6-dc7a-4188-ae5a-5942847b9fa2\">\n",
              "  <button class=\"colab-df-quickchart\" onclick=\"quickchart('df-396132a6-dc7a-4188-ae5a-5942847b9fa2')\"\n",
              "            title=\"Suggest charts\"\n",
              "            style=\"display:none;\">\n",
              "\n",
              "<svg xmlns=\"http://www.w3.org/2000/svg\" height=\"24px\"viewBox=\"0 0 24 24\"\n",
              "     width=\"24px\">\n",
              "    <g>\n",
              "        <path d=\"M19 3H5c-1.1 0-2 .9-2 2v14c0 1.1.9 2 2 2h14c1.1 0 2-.9 2-2V5c0-1.1-.9-2-2-2zM9 17H7v-7h2v7zm4 0h-2V7h2v10zm4 0h-2v-4h2v4z\"/>\n",
              "    </g>\n",
              "</svg>\n",
              "  </button>\n",
              "\n",
              "<style>\n",
              "  .colab-df-quickchart {\n",
              "      --bg-color: #E8F0FE;\n",
              "      --fill-color: #1967D2;\n",
              "      --hover-bg-color: #E2EBFA;\n",
              "      --hover-fill-color: #174EA6;\n",
              "      --disabled-fill-color: #AAA;\n",
              "      --disabled-bg-color: #DDD;\n",
              "  }\n",
              "\n",
              "  [theme=dark] .colab-df-quickchart {\n",
              "      --bg-color: #3B4455;\n",
              "      --fill-color: #D2E3FC;\n",
              "      --hover-bg-color: #434B5C;\n",
              "      --hover-fill-color: #FFFFFF;\n",
              "      --disabled-bg-color: #3B4455;\n",
              "      --disabled-fill-color: #666;\n",
              "  }\n",
              "\n",
              "  .colab-df-quickchart {\n",
              "    background-color: var(--bg-color);\n",
              "    border: none;\n",
              "    border-radius: 50%;\n",
              "    cursor: pointer;\n",
              "    display: none;\n",
              "    fill: var(--fill-color);\n",
              "    height: 32px;\n",
              "    padding: 0;\n",
              "    width: 32px;\n",
              "  }\n",
              "\n",
              "  .colab-df-quickchart:hover {\n",
              "    background-color: var(--hover-bg-color);\n",
              "    box-shadow: 0 1px 2px rgba(60, 64, 67, 0.3), 0 1px 3px 1px rgba(60, 64, 67, 0.15);\n",
              "    fill: var(--button-hover-fill-color);\n",
              "  }\n",
              "\n",
              "  .colab-df-quickchart-complete:disabled,\n",
              "  .colab-df-quickchart-complete:disabled:hover {\n",
              "    background-color: var(--disabled-bg-color);\n",
              "    fill: var(--disabled-fill-color);\n",
              "    box-shadow: none;\n",
              "  }\n",
              "\n",
              "  .colab-df-spinner {\n",
              "    border: 2px solid var(--fill-color);\n",
              "    border-color: transparent;\n",
              "    border-bottom-color: var(--fill-color);\n",
              "    animation:\n",
              "      spin 1s steps(1) infinite;\n",
              "  }\n",
              "\n",
              "  @keyframes spin {\n",
              "    0% {\n",
              "      border-color: transparent;\n",
              "      border-bottom-color: var(--fill-color);\n",
              "      border-left-color: var(--fill-color);\n",
              "    }\n",
              "    20% {\n",
              "      border-color: transparent;\n",
              "      border-left-color: var(--fill-color);\n",
              "      border-top-color: var(--fill-color);\n",
              "    }\n",
              "    30% {\n",
              "      border-color: transparent;\n",
              "      border-left-color: var(--fill-color);\n",
              "      border-top-color: var(--fill-color);\n",
              "      border-right-color: var(--fill-color);\n",
              "    }\n",
              "    40% {\n",
              "      border-color: transparent;\n",
              "      border-right-color: var(--fill-color);\n",
              "      border-top-color: var(--fill-color);\n",
              "    }\n",
              "    60% {\n",
              "      border-color: transparent;\n",
              "      border-right-color: var(--fill-color);\n",
              "    }\n",
              "    80% {\n",
              "      border-color: transparent;\n",
              "      border-right-color: var(--fill-color);\n",
              "      border-bottom-color: var(--fill-color);\n",
              "    }\n",
              "    90% {\n",
              "      border-color: transparent;\n",
              "      border-bottom-color: var(--fill-color);\n",
              "    }\n",
              "  }\n",
              "</style>\n",
              "\n",
              "  <script>\n",
              "    async function quickchart(key) {\n",
              "      const quickchartButtonEl =\n",
              "        document.querySelector('#' + key + ' button');\n",
              "      quickchartButtonEl.disabled = true;  // To prevent multiple clicks.\n",
              "      quickchartButtonEl.classList.add('colab-df-spinner');\n",
              "      try {\n",
              "        const charts = await google.colab.kernel.invokeFunction(\n",
              "            'suggestCharts', [key], {});\n",
              "      } catch (error) {\n",
              "        console.error('Error during call to suggestCharts:', error);\n",
              "      }\n",
              "      quickchartButtonEl.classList.remove('colab-df-spinner');\n",
              "      quickchartButtonEl.classList.add('colab-df-quickchart-complete');\n",
              "    }\n",
              "    (() => {\n",
              "      let quickchartButtonEl =\n",
              "        document.querySelector('#df-396132a6-dc7a-4188-ae5a-5942847b9fa2 button');\n",
              "      quickchartButtonEl.style.display =\n",
              "        google.colab.kernel.accessAllowed ? 'block' : 'none';\n",
              "    })();\n",
              "  </script>\n",
              "</div>\n",
              "\n",
              "    </div>\n",
              "  </div>\n"
            ],
            "application/vnd.google.colaboratory.intrinsic+json": {
              "type": "dataframe",
              "summary": "{\n  \"name\": \"vehicle_df\",\n  \"rows\": 8,\n  \"fields\": [\n    {\n      \"column\": \"compactness\",\n      \"properties\": {\n        \"dtype\": \"number\",\n        \"std\": 272.0946167633953,\n        \"min\": 8.23447425333426,\n        \"max\": 846.0,\n        \"num_unique_values\": 8,\n        \"samples\": [\n          93.67848699763593,\n          93.0,\n          846.0\n        ],\n        \"semantic_type\": \"\",\n        \"description\": \"\"\n      }\n    },\n    {\n      \"column\": \"circularity\",\n      \"properties\": {\n        \"dtype\": \"number\",\n        \"std\": 283.8207844446302,\n        \"min\": 6.152171861813708,\n        \"max\": 841.0,\n        \"num_unique_values\": 8,\n        \"samples\": [\n          44.828775267538646,\n          44.0,\n          841.0\n        ],\n        \"semantic_type\": \"\",\n        \"description\": \"\"\n      }\n    },\n    {\n      \"column\": \"distance_circularity\",\n      \"properties\": {\n        \"dtype\": \"number\",\n        \"std\": 274.2757606643974,\n        \"min\": 15.778291805673968,\n        \"max\": 842.0,\n        \"num_unique_values\": 8,\n        \"samples\": [\n          82.1104513064133,\n          80.0,\n          842.0\n        ],\n        \"semantic_type\": \"\",\n        \"description\": \"\"\n      }\n    },\n    {\n      \"column\": \"radius_ratio\",\n      \"properties\": {\n        \"dtype\": \"number\",\n        \"std\": 253.96961636641785,\n        \"min\": 33.52019797334268,\n        \"max\": 840.0,\n        \"num_unique_values\": 8,\n        \"samples\": [\n          168.88809523809525,\n          167.0,\n          840.0\n        ],\n        \"semantic_type\": \"\",\n        \"description\": \"\"\n      }\n    },\n    {\n      \"column\": \"pr.axis_aspect_ratio\",\n      \"properties\": {\n        \"dtype\": \"number\",\n        \"std\": 278.60564436324506,\n        \"min\": 7.891463065900406,\n        \"max\": 844.0,\n        \"num_unique_values\": 8,\n        \"samples\": [\n          61.67890995260664,\n          61.0,\n          844.0\n        ],\n        \"semantic_type\": \"\",\n        \"description\": \"\"\n      }\n    },\n    {\n      \"column\": \"max.length_aspect_ratio\",\n      \"properties\": {\n        \"dtype\": \"number\",\n        \"std\": 294.79479089567576,\n        \"min\": 2.0,\n        \"max\": 846.0,\n        \"num_unique_values\": 8,\n        \"samples\": [\n          8.567375886524824,\n          8.0,\n          846.0\n        ],\n        \"semantic_type\": \"\",\n        \"description\": \"\"\n      }\n    },\n    {\n      \"column\": \"scatter_ratio\",\n      \"properties\": {\n        \"dtype\": \"number\",\n        \"std\": 253.02353929528545,\n        \"min\": 33.214847921336826,\n        \"max\": 845.0,\n        \"num_unique_values\": 8,\n        \"samples\": [\n          168.901775147929,\n          157.0,\n          845.0\n        ],\n        \"semantic_type\": \"\",\n        \"description\": \"\"\n      }\n    },\n    {\n      \"column\": \"elongatedness\",\n      \"properties\": {\n        \"dtype\": \"number\",\n        \"std\": 286.15817088706336,\n        \"min\": 7.816185718829104,\n        \"max\": 845.0,\n        \"num_unique_values\": 8,\n        \"samples\": [\n          40.933727810650886,\n          43.0,\n          845.0\n        ],\n        \"semantic_type\": \"\",\n        \"description\": \"\"\n      }\n    },\n    {\n      \"column\": \"pr.axis_rectangularity\",\n      \"properties\": {\n        \"dtype\": \"number\",\n        \"std\": 291.5162706103403,\n        \"min\": 2.592933061215586,\n        \"max\": 843.0,\n        \"num_unique_values\": 8,\n        \"samples\": [\n          20.582443653618032,\n          20.0,\n          843.0\n        ],\n        \"semantic_type\": \"\",\n        \"description\": \"\"\n      }\n    },\n    {\n      \"column\": \"max.length_rectangularity\",\n      \"properties\": {\n        \"dtype\": \"number\",\n        \"std\": 258.2347959974648,\n        \"min\": 14.515651573835,\n        \"max\": 846.0,\n        \"num_unique_values\": 8,\n        \"samples\": [\n          147.99881796690306,\n          146.0,\n          846.0\n        ],\n        \"semantic_type\": \"\",\n        \"description\": \"\"\n      }\n    },\n    {\n      \"column\": \"scaled_variance\",\n      \"properties\": {\n        \"dtype\": \"number\",\n        \"std\": 249.2252262956924,\n        \"min\": 31.41100359640083,\n        \"max\": 843.0,\n        \"num_unique_values\": 8,\n        \"samples\": [\n          188.63107947805457,\n          179.0,\n          843.0\n        ],\n        \"semantic_type\": \"\",\n        \"description\": \"\"\n      }\n    },\n    {\n      \"column\": \"scaled_variance.1\",\n      \"properties\": {\n        \"dtype\": \"number\",\n        \"std\": 305.5312752718319,\n        \"min\": 176.66690269589355,\n        \"max\": 1018.0,\n        \"num_unique_values\": 8,\n        \"samples\": [\n          439.49407582938386,\n          363.5,\n          844.0\n        ],\n        \"semantic_type\": \"\",\n        \"description\": \"\"\n      }\n    },\n    {\n      \"column\": \"scaled_radius_of_gyration\",\n      \"properties\": {\n        \"dtype\": \"number\",\n        \"std\": 251.9661236958231,\n        \"min\": 32.58480823264772,\n        \"max\": 844.0,\n        \"num_unique_values\": 8,\n        \"samples\": [\n          174.70971563981044,\n          173.5,\n          844.0\n        ],\n        \"semantic_type\": \"\",\n        \"description\": \"\"\n      }\n    },\n    {\n      \"column\": \"scaled_radius_of_gyration.1\",\n      \"properties\": {\n        \"dtype\": \"number\",\n        \"std\": 275.23409401422947,\n        \"min\": 7.4861902756045,\n        \"max\": 842.0,\n        \"num_unique_values\": 8,\n        \"samples\": [\n          72.44774346793349,\n          71.5,\n          842.0\n        ],\n        \"semantic_type\": \"\",\n        \"description\": \"\"\n      }\n    },\n    {\n      \"column\": \"skewness_about\",\n      \"properties\": {\n        \"dtype\": \"number\",\n        \"std\": 294.51990201503133,\n        \"min\": 0.0,\n        \"max\": 840.0,\n        \"num_unique_values\": 8,\n        \"samples\": [\n          6.364285714285714,\n          6.0,\n          840.0\n        ],\n        \"semantic_type\": \"\",\n        \"description\": \"\"\n      }\n    },\n    {\n      \"column\": \"skewness_about.1\",\n      \"properties\": {\n        \"dtype\": \"number\",\n        \"std\": 294.0855882264471,\n        \"min\": 0.0,\n        \"max\": 845.0,\n        \"num_unique_values\": 8,\n        \"samples\": [\n          12.602366863905326,\n          11.0,\n          845.0\n        ],\n        \"semantic_type\": \"\",\n        \"description\": \"\"\n      }\n    },\n    {\n      \"column\": \"skewness_about.2\",\n      \"properties\": {\n        \"dtype\": \"number\",\n        \"std\": 249.58706829279623,\n        \"min\": 6.1558094753638795,\n        \"max\": 845.0,\n        \"num_unique_values\": 8,\n        \"samples\": [\n          188.91952662721894,\n          188.0,\n          845.0\n        ],\n        \"semantic_type\": \"\",\n        \"description\": \"\"\n      }\n    },\n    {\n      \"column\": \"hollows_ratio\",\n      \"properties\": {\n        \"dtype\": \"number\",\n        \"std\": 248.41278155287813,\n        \"min\": 7.438797429122354,\n        \"max\": 846.0,\n        \"num_unique_values\": 8,\n        \"samples\": [\n          195.63238770685578,\n          197.0,\n          846.0\n        ],\n        \"semantic_type\": \"\",\n        \"description\": \"\"\n      }\n    }\n  ]\n}"
            }
          },
          "metadata": {},
          "execution_count": 4
        }
      ]
    },
    {
      "cell_type": "code",
      "source": [
        "vehicle_df.shape"
      ],
      "metadata": {
        "colab": {
          "base_uri": "https://localhost:8080/"
        },
        "id": "BpT3oKVcbueA",
        "outputId": "8decc597-204b-492c-f992-19c6267d4521"
      },
      "execution_count": 5,
      "outputs": [
        {
          "output_type": "execute_result",
          "data": {
            "text/plain": [
              "(846, 19)"
            ]
          },
          "metadata": {},
          "execution_count": 5
        }
      ]
    },
    {
      "cell_type": "markdown",
      "source": [
        "Check percentage of missing values"
      ],
      "metadata": {
        "id": "4H3FYNZrE3aj"
      }
    },
    {
      "cell_type": "code",
      "source": [
        "vehicle_df.isnull().sum()"
      ],
      "metadata": {
        "colab": {
          "base_uri": "https://localhost:8080/"
        },
        "id": "QrEqEO7hbcCw",
        "outputId": "64f6b9b5-ce11-4743-ae6b-216195e88174"
      },
      "execution_count": 6,
      "outputs": [
        {
          "output_type": "execute_result",
          "data": {
            "text/plain": [
              "compactness                    0\n",
              "circularity                    5\n",
              "distance_circularity           4\n",
              "radius_ratio                   6\n",
              "pr.axis_aspect_ratio           2\n",
              "max.length_aspect_ratio        0\n",
              "scatter_ratio                  1\n",
              "elongatedness                  1\n",
              "pr.axis_rectangularity         3\n",
              "max.length_rectangularity      0\n",
              "scaled_variance                3\n",
              "scaled_variance.1              2\n",
              "scaled_radius_of_gyration      2\n",
              "scaled_radius_of_gyration.1    4\n",
              "skewness_about                 6\n",
              "skewness_about.1               1\n",
              "skewness_about.2               1\n",
              "hollows_ratio                  0\n",
              "class                          0\n",
              "dtype: int64"
            ]
          },
          "metadata": {},
          "execution_count": 6
        }
      ]
    },
    {
      "cell_type": "code",
      "source": [
        "vehicle_df['class'].value_counts()"
      ],
      "metadata": {
        "colab": {
          "base_uri": "https://localhost:8080/"
        },
        "id": "bPcOkkWWEMkR",
        "outputId": "edc7181e-e768-462c-ce99-90b16845a50f"
      },
      "execution_count": 7,
      "outputs": [
        {
          "output_type": "execute_result",
          "data": {
            "text/plain": [
              "car    429\n",
              "bus    218\n",
              "van    199\n",
              "Name: class, dtype: int64"
            ]
          },
          "metadata": {},
          "execution_count": 7
        }
      ]
    },
    {
      "cell_type": "code",
      "source": [
        "replace_struc = {'car': 1, 'bus': 2, 'van': 3}\n",
        "vehicle_df['class'] = vehicle_df['class'].map(replace_struc)"
      ],
      "metadata": {
        "id": "FieetXJOEHn5"
      },
      "execution_count": 8,
      "outputs": []
    },
    {
      "cell_type": "code",
      "source": [
        "vehicle_df['class'].value_counts()"
      ],
      "metadata": {
        "colab": {
          "base_uri": "https://localhost:8080/"
        },
        "id": "KPuc7YryEaD1",
        "outputId": "375350c6-4b19-4d64-d318-d83bdf610da0"
      },
      "execution_count": 9,
      "outputs": [
        {
          "output_type": "execute_result",
          "data": {
            "text/plain": [
              "1    429\n",
              "2    218\n",
              "3    199\n",
              "Name: class, dtype: int64"
            ]
          },
          "metadata": {},
          "execution_count": 9
        }
      ]
    },
    {
      "cell_type": "markdown",
      "source": [
        "Impute the null values with median"
      ],
      "metadata": {
        "id": "i-84VJVkE7TY"
      }
    },
    {
      "cell_type": "code",
      "source": [
        "columns = list(vehicle_df.columns)\n",
        "imputer = SimpleImputer(missing_values=np.nan, strategy='median')\n",
        "vehicle_df = pd.DataFrame(imputer.fit_transform(vehicle_df), columns = columns)\n",
        "\n",
        "vehicle_df.isnull().sum()"
      ],
      "metadata": {
        "colab": {
          "base_uri": "https://localhost:8080/"
        },
        "id": "e__Cj1aUcdJD",
        "outputId": "a39bf7c3-05f4-4826-ae7c-ec679ce21aa5"
      },
      "execution_count": 12,
      "outputs": [
        {
          "output_type": "execute_result",
          "data": {
            "text/plain": [
              "compactness                    0\n",
              "circularity                    0\n",
              "distance_circularity           0\n",
              "radius_ratio                   0\n",
              "pr.axis_aspect_ratio           0\n",
              "max.length_aspect_ratio        0\n",
              "scatter_ratio                  0\n",
              "elongatedness                  0\n",
              "pr.axis_rectangularity         0\n",
              "max.length_rectangularity      0\n",
              "scaled_variance                0\n",
              "scaled_variance.1              0\n",
              "scaled_radius_of_gyration      0\n",
              "scaled_radius_of_gyration.1    0\n",
              "skewness_about                 0\n",
              "skewness_about.1               0\n",
              "skewness_about.2               0\n",
              "hollows_ratio                  0\n",
              "class                          0\n",
              "dtype: int64"
            ]
          },
          "metadata": {},
          "execution_count": 12
        }
      ]
    },
    {
      "cell_type": "markdown",
      "source": [
        "Visualize a Pie-chart and print percentage of values for variable ‘class’"
      ],
      "metadata": {
        "id": "OwXlYYGtFA9W"
      }
    },
    {
      "cell_type": "code",
      "source": [
        "vehicle_df['class'].value_counts().plot.pie(autopct='%1.1f%%');\n",
        "plt.title('Class')\n",
        "plt.show()"
      ],
      "metadata": {
        "colab": {
          "base_uri": "https://localhost:8080/",
          "height": 428
        },
        "id": "nXIwPg66GMHe",
        "outputId": "05dfe526-c872-4456-dcf9-3f81f1cff44b"
      },
      "execution_count": 13,
      "outputs": [
        {
          "output_type": "display_data",
          "data": {
            "text/plain": [
              "<Figure size 640x480 with 1 Axes>"
            ],
            "image/png": "[encoded data removed]"
          },
          "metadata": {}
        }
      ]
    },
    {
      "cell_type": "markdown",
      "source": [
        "In the above graph, Car is 1, Bus is 2 and Van is 3"
      ],
      "metadata": {
        "id": "GRInMJvHFGYh"
      }
    },
    {
      "cell_type": "markdown",
      "source": [
        "Check for duplicate rows in the data and impute them"
      ],
      "metadata": {
        "id": "uqQ0lpArFLHI"
      }
    },
    {
      "cell_type": "code",
      "source": [
        "vehicle_df.duplicated().sum()"
      ],
      "metadata": {
        "colab": {
          "base_uri": "https://localhost:8080/"
        },
        "id": "eMV3jwWvHYkv",
        "outputId": "07b7e849-a3c5-4473-fdce-8def2c6ccea9"
      },
      "execution_count": 14,
      "outputs": [
        {
          "output_type": "execute_result",
          "data": {
            "text/plain": [
              "0"
            ]
          },
          "metadata": {},
          "execution_count": 14
        }
      ]
    },
    {
      "cell_type": "markdown",
      "source": [
        "## Data Preparation and Analysis"
      ],
      "metadata": {
        "id": "TUdY6Jm7FOV6"
      }
    },
    {
      "cell_type": "markdown",
      "source": [
        "Split data into Train and Test"
      ],
      "metadata": {
        "id": "EmxDJGJ8FQyK"
      }
    },
    {
      "cell_type": "code",
      "source": [
        "X_train, X_test, y_train, y_test = train_test_split(vehicle_df.iloc[:,:-1], vehicle_df.iloc[:,-1], test_size = 0.2, random_state = 42)"
      ],
      "metadata": {
        "id": "EytriyACNnra"
      },
      "execution_count": 15,
      "outputs": []
    },
    {
      "cell_type": "code",
      "source": [
        "print(X_train.shape)\n",
        "print(X_test.shape)\n",
        "print(y_train.shape)\n",
        "print(y_test.shape)"
      ],
      "metadata": {
        "colab": {
          "base_uri": "https://localhost:8080/"
        },
        "id": "zP50NaPzPhog",
        "outputId": "3029712a-a03d-493e-c926-5a2b405db0f2"
      },
      "execution_count": 16,
      "outputs": [
        {
          "output_type": "stream",
          "name": "stdout",
          "text": [
            "(676, 18)\n",
            "(170, 18)\n",
            "(676,)\n",
            "(170,)\n"
          ]
        }
      ]
    },
    {
      "cell_type": "code",
      "source": [
        "X_train.head()"
      ],
      "metadata": {
        "colab": {
          "base_uri": "https://localhost:8080/",
          "height": 226
        },
        "id": "FifZDS03PzPa",
        "outputId": "79d7d6fb-a325-4c77-f499-356bb2a85189"
      },
      "execution_count": 17,
      "outputs": [
        {
          "output_type": "execute_result",
          "data": {
            "text/plain": [
              "     compactness  circularity  distance_circularity  radius_ratio  \\\n",
              "665         90.0         47.0                  85.0         161.0   \n",
              "633        102.0         52.0                 101.0         213.0   \n",
              "570        105.0         53.0                 108.0         206.0   \n",
              "788        115.0         52.0                 100.0         203.0   \n",
              "539        109.0         55.0                  96.0         191.0   \n",
              "\n",
              "     pr.axis_aspect_ratio  max.length_aspect_ratio  scatter_ratio  \\\n",
              "665                  64.0                     10.0          163.0   \n",
              "633                  64.0                     10.0          203.0   \n",
              "570                  63.0                     12.0          222.0   \n",
              "788                  62.0                     10.0          217.0   \n",
              "539                  57.0                      6.0          241.0   \n",
              "\n",
              "     elongatedness  pr.axis_rectangularity  max.length_rectangularity  \\\n",
              "665           42.0                    20.0                      160.0   \n",
              "633           33.0                    23.0                      157.0   \n",
              "570           31.0                    25.0                      168.0   \n",
              "788           31.0                    24.0                      165.0   \n",
              "539           28.0                    26.0                      170.0   \n",
              "\n",
              "     scaled_variance  scaled_variance.1  scaled_radius_of_gyration  \\\n",
              "665            177.0              389.0                      185.0   \n",
              "633            214.0              616.0                      186.0   \n",
              "570            226.0              712.0                      201.0   \n",
              "788            229.0              697.0                      214.0   \n",
              "539            267.0              857.0                      242.0   \n",
              "\n",
              "     scaled_radius_of_gyration.1  skewness_about  skewness_about.1  \\\n",
              "665                         73.0             9.0               0.0   \n",
              "633                         65.0             0.0              19.0   \n",
              "570                         71.0            15.0              35.0   \n",
              "788                         72.0            14.0               4.0   \n",
              "539                         85.0             8.0               9.0   \n",
              "\n",
              "     skewness_about.2  hollows_ratio  \n",
              "665             185.0          195.0  \n",
              "633             193.0          203.0  \n",
              "570             189.0          203.0  \n",
              "788             188.0          197.0  \n",
              "539             184.0          184.0  "
            ],
            "text/html": [
              "\n",
              "  <div id=\"df-20a336a0-7f34-4b7f-8b35-afa29e744d56\" class=\"colab-df-container\">\n",
              "    <div>\n",
              "<style scoped>\n",
              "    .dataframe tbody tr th:only-of-type {\n",
              "        vertical-align: middle;\n",
              "    }\n",
              "\n",
              "    .dataframe tbody tr th {\n",
              "        vertical-align: top;\n",
              "    }\n",
              "\n",
              "    .dataframe thead th {\n",
              "        text-align: right;\n",
              "    }\n",
              "</style>\n",
              "<table border=\"1\" class=\"dataframe\">\n",
              "  <thead>\n",
              "    <tr style=\"text-align: right;\">\n",
              "      <th></th>\n",
              "      <th>compactness</th>\n",
              "      <th>circularity</th>\n",
              "      <th>distance_circularity</th>\n",
              "      <th>radius_ratio</th>\n",
              "      <th>pr.axis_aspect_ratio</th>\n",
              "      <th>max.length_aspect_ratio</th>\n",
              "      <th>scatter_ratio</th>\n",
              "      <th>elongatedness</th>\n",
              "      <th>pr.axis_rectangularity</th>\n",
              "      <th>max.length_rectangularity</th>\n",
              "      <th>scaled_variance</th>\n",
              "      <th>scaled_variance.1</th>\n",
              "      <th>scaled_radius_of_gyration</th>\n",
              "      <th>scaled_radius_of_gyration.1</th>\n",
              "      <th>skewness_about</th>\n",
              "      <th>skewness_about.1</th>\n",
              "      <th>skewness_about.2</th>\n",
              "      <th>hollows_ratio</th>\n",
              "    </tr>\n",
              "  </thead>\n",
              "  <tbody>\n",
              "    <tr>\n",
              "      <th>665</th>\n",
              "      <td>90.0</td>\n",
              "      <td>47.0</td>\n",
              "      <td>85.0</td>\n",
              "      <td>161.0</td>\n",
              "      <td>64.0</td>\n",
              "      <td>10.0</td>\n",
              "      <td>163.0</td>\n",
              "      <td>42.0</td>\n",
              "      <td>20.0</td>\n",
              "      <td>160.0</td>\n",
              "      <td>177.0</td>\n",
              "      <td>389.0</td>\n",
              "      <td>185.0</td>\n",
              "      <td>73.0</td>\n",
              "      <td>9.0</td>\n",
              "      <td>0.0</td>\n",
              "      <td>185.0</td>\n",
              "      <td>195.0</td>\n",
              "    </tr>\n",
              "    <tr>\n",
              "      <th>633</th>\n",
              "      <td>102.0</td>\n",
              "      <td>52.0</td>\n",
              "      <td>101.0</td>\n",
              "      <td>213.0</td>\n",
              "      <td>64.0</td>\n",
              "      <td>10.0</td>\n",
              "      <td>203.0</td>\n",
              "      <td>33.0</td>\n",
              "      <td>23.0</td>\n",
              "      <td>157.0</td>\n",
              "      <td>214.0</td>\n",
              "      <td>616.0</td>\n",
              "      <td>186.0</td>\n",
              "      <td>65.0</td>\n",
              "      <td>0.0</td>\n",
              "      <td>19.0</td>\n",
              "      <td>193.0</td>\n",
              "      <td>203.0</td>\n",
              "    </tr>\n",
              "    <tr>\n",
              "      <th>570</th>\n",
              "      <td>105.0</td>\n",
              "      <td>53.0</td>\n",
              "      <td>108.0</td>\n",
              "      <td>206.0</td>\n",
              "      <td>63.0</td>\n",
              "      <td>12.0</td>\n",
              "      <td>222.0</td>\n",
              "      <td>31.0</td>\n",
              "      <td>25.0</td>\n",
              "      <td>168.0</td>\n",
              "      <td>226.0</td>\n",
              "      <td>712.0</td>\n",
              "      <td>201.0</td>\n",
              "      <td>71.0</td>\n",
              "      <td>15.0</td>\n",
              "      <td>35.0</td>\n",
              "      <td>189.0</td>\n",
              "      <td>203.0</td>\n",
              "    </tr>\n",
              "    <tr>\n",
              "      <th>788</th>\n",
              "      <td>115.0</td>\n",
              "      <td>52.0</td>\n",
              "      <td>100.0</td>\n",
              "      <td>203.0</td>\n",
              "      <td>62.0</td>\n",
              "      <td>10.0</td>\n",
              "      <td>217.0</td>\n",
              "      <td>31.0</td>\n",
              "      <td>24.0</td>\n",
              "      <td>165.0</td>\n",
              "      <td>229.0</td>\n",
              "      <td>697.0</td>\n",
              "      <td>214.0</td>\n",
              "      <td>72.0</td>\n",
              "      <td>14.0</td>\n",
              "      <td>4.0</td>\n",
              "      <td>188.0</td>\n",
              "      <td>197.0</td>\n",
              "    </tr>\n",
              "    <tr>\n",
              "      <th>539</th>\n",
              "      <td>109.0</td>\n",
              "      <td>55.0</td>\n",
              "      <td>96.0</td>\n",
              "      <td>191.0</td>\n",
              "      <td>57.0</td>\n",
              "      <td>6.0</td>\n",
              "      <td>241.0</td>\n",
              "      <td>28.0</td>\n",
              "      <td>26.0</td>\n",
              "      <td>170.0</td>\n",
              "      <td>267.0</td>\n",
              "      <td>857.0</td>\n",
              "      <td>242.0</td>\n",
              "      <td>85.0</td>\n",
              "      <td>8.0</td>\n",
              "      <td>9.0</td>\n",
              "      <td>184.0</td>\n",
              "      <td>184.0</td>\n",
              "    </tr>\n",
              "  </tbody>\n",
              "</table>\n",
              "</div>\n",
              "    <div class=\"colab-df-buttons\">\n",
              "\n",
              "  <div class=\"colab-df-container\">\n",
              "    <button class=\"colab-df-convert\" onclick=\"convertToInteractive('df-20a336a0-7f34-4b7f-8b35-afa29e744d56')\"\n",
              "            title=\"Convert this dataframe to an interactive table.\"\n",
              "            style=\"display:none;\">\n",
              "\n",
              "  <svg xmlns=\"http://www.w3.org/2000/svg\" height=\"24px\" viewBox=\"0 -960 960 960\">\n",
              "    <path d=\"M120-120v-720h720v720H120Zm60-500h600v-160H180v160Zm220 220h160v-160H400v160Zm0 220h160v-160H400v160ZM180-400h160v-160H180v160Zm440 0h160v-160H620v160ZM180-180h160v-160H180v160Zm440 0h160v-160H620v160Z\"/>\n",
              "  </svg>\n",
              "    </button>\n",
              "\n",
              "  <style>\n",
              "    .colab-df-container {\n",
              "      display:flex;\n",
              "      gap: 12px;\n",
              "    }\n",
              "\n",
              "    .colab-df-convert {\n",
              "      background-color: #E8F0FE;\n",
              "      border: none;\n",
              "      border-radius: 50%;\n",
              "      cursor: pointer;\n",
              "      display: none;\n",
              "      fill: #1967D2;\n",
              "      height: 32px;\n",
              "      padding: 0 0 0 0;\n",
              "      width: 32px;\n",
              "    }\n",
              "\n",
              "    .colab-df-convert:hover {\n",
              "      background-color: #E2EBFA;\n",
              "      box-shadow: 0px 1px 2px rgba(60, 64, 67, 0.3), 0px 1px 3px 1px rgba(60, 64, 67, 0.15);\n",
              "      fill: #174EA6;\n",
              "    }\n",
              "\n",
              "    .colab-df-buttons div {\n",
              "      margin-bottom: 4px;\n",
              "    }\n",
              "\n",
              "    [theme=dark] .colab-df-convert {\n",
              "      background-color: #3B4455;\n",
              "      fill: #D2E3FC;\n",
              "    }\n",
              "\n",
              "    [theme=dark] .colab-df-convert:hover {\n",
              "      background-color: #434B5C;\n",
              "      box-shadow: 0px 1px 3px 1px rgba(0, 0, 0, 0.15);\n",
              "      filter: drop-shadow(0px 1px 2px rgba(0, 0, 0, 0.3));\n",
              "      fill: #FFFFFF;\n",
              "    }\n",
              "  </style>\n",
              "\n",
              "    <script>\n",
              "      const buttonEl =\n",
              "        document.querySelector('#df-20a336a0-7f34-4b7f-8b35-afa29e744d56 button.colab-df-convert');\n",
              "      buttonEl.style.display =\n",
              "        google.colab.kernel.accessAllowed ? 'block' : 'none';\n",
              "\n",
              "      async function convertToInteractive(key) {\n",
              "        const element = document.querySelector('#df-20a336a0-7f34-4b7f-8b35-afa29e744d56');\n",
              "        const dataTable =\n",
              "          await google.colab.kernel.invokeFunction('convertToInteractive',\n",
              "                                                    [key], {});\n",
              "        if (!dataTable) return;\n",
              "\n",
              "        const docLinkHtml = 'Like what you see? Visit the ' +\n",
              "          '<a target=\"_blank\" href=https://colab.research.google.com/notebooks/data_table.ipynb>data table notebook</a>'\n",
              "          + ' to learn more about interactive tables.';\n",
              "        element.innerHTML = '';\n",
              "        dataTable['output_type'] = 'display_data';\n",
              "        await google.colab.output.renderOutput(dataTable, element);\n",
              "        const docLink = document.createElement('div');\n",
              "        docLink.innerHTML = docLinkHtml;\n",
              "        element.appendChild(docLink);\n",
              "      }\n",
              "    </script>\n",
              "  </div>\n",
              "\n",
              "\n",
              "<div id=\"df-08233401-3aa1-40bf-b603-ba1f2103f62d\">\n",
              "  <button class=\"colab-df-quickchart\" onclick=\"quickchart('df-08233401-3aa1-40bf-b603-ba1f2103f62d')\"\n",
              "            title=\"Suggest charts\"\n",
              "            style=\"display:none;\">\n",
              "\n",
              "<svg xmlns=\"http://www.w3.org/2000/svg\" height=\"24px\"viewBox=\"0 0 24 24\"\n",
              "     width=\"24px\">\n",
              "    <g>\n",
              "        <path d=\"M19 3H5c-1.1 0-2 .9-2 2v14c0 1.1.9 2 2 2h14c1.1 0 2-.9 2-2V5c0-1.1-.9-2-2-2zM9 17H7v-7h2v7zm4 0h-2V7h2v10zm4 0h-2v-4h2v4z\"/>\n",
              "    </g>\n",
              "</svg>\n",
              "  </button>\n",
              "\n",
              "<style>\n",
              "  .colab-df-quickchart {\n",
              "      --bg-color: #E8F0FE;\n",
              "      --fill-color: #1967D2;\n",
              "      --hover-bg-color: #E2EBFA;\n",
              "      --hover-fill-color: #174EA6;\n",
              "      --disabled-fill-color: #AAA;\n",
              "      --disabled-bg-color: #DDD;\n",
              "  }\n",
              "\n",
              "  [theme=dark] .colab-df-quickchart {\n",
              "      --bg-color: #3B4455;\n",
              "      --fill-color: #D2E3FC;\n",
              "      --hover-bg-color: #434B5C;\n",
              "      --hover-fill-color: #FFFFFF;\n",
              "      --disabled-bg-color: #3B4455;\n",
              "      --disabled-fill-color: #666;\n",
              "  }\n",
              "\n",
              "  .colab-df-quickchart {\n",
              "    background-color: var(--bg-color);\n",
              "    border: none;\n",
              "    border-radius: 50%;\n",
              "    cursor: pointer;\n",
              "    display: none;\n",
              "    fill: var(--fill-color);\n",
              "    height: 32px;\n",
              "    padding: 0;\n",
              "    width: 32px;\n",
              "  }\n",
              "\n",
              "  .colab-df-quickchart:hover {\n",
              "    background-color: var(--hover-bg-color);\n",
              "    box-shadow: 0 1px 2px rgba(60, 64, 67, 0.3), 0 1px 3px 1px rgba(60, 64, 67, 0.15);\n",
              "    fill: var(--button-hover-fill-color);\n",
              "  }\n",
              "\n",
              "  .colab-df-quickchart-complete:disabled,\n",
              "  .colab-df-quickchart-complete:disabled:hover {\n",
              "    background-color: var(--disabled-bg-color);\n",
              "    fill: var(--disabled-fill-color);\n",
              "    box-shadow: none;\n",
              "  }\n",
              "\n",
              "  .colab-df-spinner {\n",
              "    border: 2px solid var(--fill-color);\n",
              "    border-color: transparent;\n",
              "    border-bottom-color: var(--fill-color);\n",
              "    animation:\n",
              "      spin 1s steps(1) infinite;\n",
              "  }\n",
              "\n",
              "  @keyframes spin {\n",
              "    0% {\n",
              "      border-color: transparent;\n",
              "      border-bottom-color: var(--fill-color);\n",
              "      border-left-color: var(--fill-color);\n",
              "    }\n",
              "    20% {\n",
              "      border-color: transparent;\n",
              "      border-left-color: var(--fill-color);\n",
              "      border-top-color: var(--fill-color);\n",
              "    }\n",
              "    30% {\n",
              "      border-color: transparent;\n",
              "      border-left-color: var(--fill-color);\n",
              "      border-top-color: var(--fill-color);\n",
              "      border-right-color: var(--fill-color);\n",
              "    }\n",
              "    40% {\n",
              "      border-color: transparent;\n",
              "      border-right-color: var(--fill-color);\n",
              "      border-top-color: var(--fill-color);\n",
              "    }\n",
              "    60% {\n",
              "      border-color: transparent;\n",
              "      border-right-color: var(--fill-color);\n",
              "    }\n",
              "    80% {\n",
              "      border-color: transparent;\n",
              "      border-right-color: var(--fill-color);\n",
              "      border-bottom-color: var(--fill-color);\n",
              "    }\n",
              "    90% {\n",
              "      border-color: transparent;\n",
              "      border-bottom-color: var(--fill-color);\n",
              "    }\n",
              "  }\n",
              "</style>\n",
              "\n",
              "  <script>\n",
              "    async function quickchart(key) {\n",
              "      const quickchartButtonEl =\n",
              "        document.querySelector('#' + key + ' button');\n",
              "      quickchartButtonEl.disabled = true;  // To prevent multiple clicks.\n",
              "      quickchartButtonEl.classList.add('colab-df-spinner');\n",
              "      try {\n",
              "        const charts = await google.colab.kernel.invokeFunction(\n",
              "            'suggestCharts', [key], {});\n",
              "      } catch (error) {\n",
              "        console.error('Error during call to suggestCharts:', error);\n",
              "      }\n",
              "      quickchartButtonEl.classList.remove('colab-df-spinner');\n",
              "      quickchartButtonEl.classList.add('colab-df-quickchart-complete');\n",
              "    }\n",
              "    (() => {\n",
              "      let quickchartButtonEl =\n",
              "        document.querySelector('#df-08233401-3aa1-40bf-b603-ba1f2103f62d button');\n",
              "      quickchartButtonEl.style.display =\n",
              "        google.colab.kernel.accessAllowed ? 'block' : 'none';\n",
              "    })();\n",
              "  </script>\n",
              "</div>\n",
              "\n",
              "    </div>\n",
              "  </div>\n"
            ],
            "application/vnd.google.colaboratory.intrinsic+json": {
              "type": "dataframe",
              "variable_name": "X_train",
              "summary": "{\n  \"name\": \"X_train\",\n  \"rows\": 676,\n  \"fields\": [\n    {\n      \"column\": \"compactness\",\n      \"properties\": {\n        \"dtype\": \"number\",\n        \"std\": 8.273901284887188,\n        \"min\": 73.0,\n        \"max\": 119.0,\n        \"num_unique_values\": 43,\n        \"samples\": [\n          117.0,\n          78.0,\n          87.0\n        ],\n        \"semantic_type\": \"\",\n        \"description\": \"\"\n      }\n    },\n    {\n      \"column\": \"circularity\",\n      \"properties\": {\n        \"dtype\": \"number\",\n        \"std\": 6.206739036519549,\n        \"min\": 33.0,\n        \"max\": 59.0,\n        \"num_unique_values\": 27,\n        \"samples\": [\n          43.0,\n          46.0,\n          44.0\n        ],\n        \"semantic_type\": \"\",\n        \"description\": \"\"\n      }\n    },\n    {\n      \"column\": \"distance_circularity\",\n      \"properties\": {\n        \"dtype\": \"number\",\n        \"std\": 15.635311482490637,\n        \"min\": 42.0,\n        \"max\": 110.0,\n        \"num_unique_values\": 61,\n        \"samples\": [\n          85.0,\n          66.0,\n          57.0\n        ],\n        \"semantic_type\": \"\",\n        \"description\": \"\"\n      }\n    },\n    {\n      \"column\": \"radius_ratio\",\n      \"properties\": {\n        \"dtype\": \"number\",\n        \"std\": 34.074979011127944,\n        \"min\": 104.0,\n        \"max\": 333.0,\n        \"num_unique_values\": 132,\n        \"samples\": [\n          199.0,\n          169.0,\n          207.0\n        ],\n        \"semantic_type\": \"\",\n        \"description\": \"\"\n      }\n    },\n    {\n      \"column\": \"pr.axis_aspect_ratio\",\n      \"properties\": {\n        \"dtype\": \"number\",\n        \"std\": 8.340632569212794,\n        \"min\": 47.0,\n        \"max\": 138.0,\n        \"num_unique_values\": 36,\n        \"samples\": [\n          103.0,\n          49.0,\n          47.0\n        ],\n        \"semantic_type\": \"\",\n        \"description\": \"\"\n      }\n    },\n    {\n      \"column\": \"max.length_aspect_ratio\",\n      \"properties\": {\n        \"dtype\": \"number\",\n        \"std\": 5.029904654007108,\n        \"min\": 2.0,\n        \"max\": 55.0,\n        \"num_unique_values\": 21,\n        \"samples\": [\n          10.0,\n          22.0,\n          55.0\n        ],\n        \"semantic_type\": \"\",\n        \"description\": \"\"\n      }\n    },\n    {\n      \"column\": \"scatter_ratio\",\n      \"properties\": {\n        \"dtype\": \"number\",\n        \"std\": 32.60566790029296,\n        \"min\": 114.0,\n        \"max\": 265.0,\n        \"num_unique_values\": 125,\n        \"samples\": [\n          234.0,\n          213.0,\n          192.0\n        ],\n        \"semantic_type\": \"\",\n        \"description\": \"\"\n      }\n    },\n    {\n      \"column\": \"elongatedness\",\n      \"properties\": {\n        \"dtype\": \"number\",\n        \"std\": 7.749982078832327,\n        \"min\": 26.0,\n        \"max\": 59.0,\n        \"num_unique_values\": 34,\n        \"samples\": [\n          44.0,\n          46.0,\n          57.0\n        ],\n        \"semantic_type\": \"\",\n        \"description\": \"\"\n      }\n    },\n    {\n      \"column\": \"pr.axis_rectangularity\",\n      \"properties\": {\n        \"dtype\": \"number\",\n        \"std\": 2.5309701251242207,\n        \"min\": 17.0,\n        \"max\": 29.0,\n        \"num_unique_values\": 13,\n        \"samples\": [\n          28.0,\n          17.0,\n          20.0\n        ],\n        \"semantic_type\": \"\",\n        \"description\": \"\"\n      }\n    },\n    {\n      \"column\": \"max.length_rectangularity\",\n      \"properties\": {\n        \"dtype\": \"number\",\n        \"std\": 14.74737959466193,\n        \"min\": 118.0,\n        \"max\": 186.0,\n        \"num_unique_values\": 65,\n        \"samples\": [\n          120.0,\n          179.0,\n          160.0\n        ],\n        \"semantic_type\": \"\",\n        \"description\": \"\"\n      }\n    },\n    {\n      \"column\": \"scaled_variance\",\n      \"properties\": {\n        \"dtype\": \"number\",\n        \"std\": 30.90714717760118,\n        \"min\": 131.0,\n        \"max\": 320.0,\n        \"num_unique_values\": 122,\n        \"samples\": [\n          170.0,\n          139.0,\n          186.0\n        ],\n        \"semantic_type\": \"\",\n        \"description\": \"\"\n      }\n    },\n    {\n      \"column\": \"scaled_variance.1\",\n      \"properties\": {\n        \"dtype\": \"number\",\n        \"std\": 172.63063154752925,\n        \"min\": 191.0,\n        \"max\": 1018.0,\n        \"num_unique_values\": 375,\n        \"samples\": [\n          367.0,\n          567.0,\n          268.0\n        ],\n        \"semantic_type\": \"\",\n        \"description\": \"\"\n      }\n    },\n    {\n      \"column\": \"scaled_radius_of_gyration\",\n      \"properties\": {\n        \"dtype\": \"number\",\n        \"std\": 32.36765913329248,\n        \"min\": 109.0,\n        \"max\": 268.0,\n        \"num_unique_values\": 138,\n        \"samples\": [\n          206.0,\n          239.0,\n          158.0\n        ],\n        \"semantic_type\": \"\",\n        \"description\": \"\"\n      }\n    },\n    {\n      \"column\": \"scaled_radius_of_gyration.1\",\n      \"properties\": {\n        \"dtype\": \"number\",\n        \"std\": 7.728449390419538,\n        \"min\": 59.0,\n        \"max\": 135.0,\n        \"num_unique_values\": 40,\n        \"samples\": [\n          66.0,\n          83.0,\n          76.0\n        ],\n        \"semantic_type\": \"\",\n        \"description\": \"\"\n      }\n    },\n    {\n      \"column\": \"skewness_about\",\n      \"properties\": {\n        \"dtype\": \"number\",\n        \"std\": 4.950996995251222,\n        \"min\": 0.0,\n        \"max\": 22.0,\n        \"num_unique_values\": 23,\n        \"samples\": [\n          20.0,\n          4.0,\n          9.0\n        ],\n        \"semantic_type\": \"\",\n        \"description\": \"\"\n      }\n    },\n    {\n      \"column\": \"skewness_about.1\",\n      \"properties\": {\n        \"dtype\": \"number\",\n        \"std\": 8.947537330588258,\n        \"min\": 0.0,\n        \"max\": 41.0,\n        \"num_unique_values\": 41,\n        \"samples\": [\n          30.0,\n          3.0,\n          10.0\n        ],\n        \"semantic_type\": \"\",\n        \"description\": \"\"\n      }\n    },\n    {\n      \"column\": \"skewness_about.2\",\n      \"properties\": {\n        \"dtype\": \"number\",\n        \"std\": 6.285972437498271,\n        \"min\": 176.0,\n        \"max\": 206.0,\n        \"num_unique_values\": 30,\n        \"samples\": [\n          199.0,\n          183.0,\n          204.0\n        ],\n        \"semantic_type\": \"\",\n        \"description\": \"\"\n      }\n    },\n    {\n      \"column\": \"hollows_ratio\",\n      \"properties\": {\n        \"dtype\": \"number\",\n        \"std\": 7.416298367884176,\n        \"min\": 181.0,\n        \"max\": 211.0,\n        \"num_unique_values\": 31,\n        \"samples\": [\n          207.0,\n          202.0,\n          198.0\n        ],\n        \"semantic_type\": \"\",\n        \"description\": \"\"\n      }\n    }\n  ]\n}"
            }
          },
          "metadata": {},
          "execution_count": 17
        }
      ]
    },
    {
      "cell_type": "markdown",
      "source": [
        "Standardize the Data"
      ],
      "metadata": {
        "id": "iPIjSSbUFWXx"
      }
    },
    {
      "cell_type": "code",
      "source": [
        "scaler = StandardScaler()\n",
        "X_train = scaler.fit_transform(X_train)\n",
        "X_test = scaler.fit_transform(X_test)"
      ],
      "metadata": {
        "id": "XrWwcFd8Lqnl"
      },
      "execution_count": 18,
      "outputs": []
    },
    {
      "cell_type": "markdown",
      "source": [
        "## Model Training and Evaluation"
      ],
      "metadata": {
        "id": "Ddle-eLiFYIh"
      }
    },
    {
      "cell_type": "markdown",
      "source": [
        "Train a base Classification model using SVM."
      ],
      "metadata": {
        "id": "x2QthbiTFa8d"
      }
    },
    {
      "cell_type": "code",
      "source": [
        "classifier = svm.SVC()\n",
        "classifier.fit(X_train , y_train)\n",
        "y_pred = classifier.predict(X_test)"
      ],
      "metadata": {
        "id": "LzixJnnDQI4M"
      },
      "execution_count": 19,
      "outputs": []
    },
    {
      "cell_type": "markdown",
      "source": [
        "Print Classification metrics for train data"
      ],
      "metadata": {
        "id": "IjpeGrGUFdMD"
      }
    },
    {
      "cell_type": "code",
      "source": [
        "print(classifier.score(X_train, y_train))\n",
        "print(classifier.score(X_test, y_test))"
      ],
      "metadata": {
        "colab": {
          "base_uri": "https://localhost:8080/"
        },
        "id": "UkHavnDSQTxz",
        "outputId": "967c062a-4521-4324-f504-df0255c1fbe2"
      },
      "execution_count": 20,
      "outputs": [
        {
          "output_type": "stream",
          "name": "stdout",
          "text": [
            "0.9763313609467456\n",
            "0.9647058823529412\n"
          ]
        }
      ]
    },
    {
      "cell_type": "code",
      "source": [
        "print(\"classification  Matrix:\\n\",classification_report(y_test,y_pred))"
      ],
      "metadata": {
        "colab": {
          "base_uri": "https://localhost:8080/"
        },
        "id": "AMP_e7NsFnX4",
        "outputId": "92ff0dc5-86c6-4a45-de4d-c4dd571c534a"
      },
      "execution_count": 21,
      "outputs": [
        {
          "output_type": "stream",
          "name": "stdout",
          "text": [
            "classification  Matrix:\n",
            "               precision    recall  f1-score   support\n",
            "\n",
            "         1.0       0.97      0.97      0.97        78\n",
            "         2.0       0.98      0.96      0.97        52\n",
            "         3.0       0.93      0.95      0.94        40\n",
            "\n",
            "    accuracy                           0.96       170\n",
            "   macro avg       0.96      0.96      0.96       170\n",
            "weighted avg       0.97      0.96      0.96       170\n",
            "\n"
          ]
        }
      ]
    },
    {
      "cell_type": "markdown",
      "source": [
        "Apply PCA on the data for all the components"
      ],
      "metadata": {
        "id": "AJbty0caFwQX"
      }
    },
    {
      "cell_type": "code",
      "source": [
        "cov_matrix = np.cov(X_train.T)\n",
        "print('Covariance Matrix \\n%s', cov_matrix)\n",
        "\n",
        "e_vals, e_vecs = np.linalg.eig(cov_matrix)\n",
        "print('Eigenvectors \\n%s' %e_vecs)\n",
        "print('\\nEigenvalues \\n%s' %e_vals)"
      ],
      "metadata": {
        "colab": {
          "base_uri": "https://localhost:8080/"
        },
        "id": "OouG9M7rRbnO",
        "outputId": "98ff0fd8-0625-4d33-ea0f-7b65eb4d60ab"
      },
      "execution_count": 22,
      "outputs": [
        {
          "output_type": "stream",
          "name": "stdout",
          "text": [
            "Covariance Matrix \n",
            "%s [[ 1.00148148e+00  6.88199055e-01  7.85761002e-01  6.86661582e-01\n",
            "   1.04119727e-01  1.27578064e-01  8.11688423e-01 -7.88963703e-01\n",
            "   8.12622425e-01  6.75083367e-01  7.51395148e-01  8.13047493e-01\n",
            "   5.82089557e-01 -2.82323938e-01  2.39939403e-01  1.28953227e-01\n",
            "   3.22880454e-01  4.03732837e-01]\n",
            " [ 6.88199055e-01  1.00148148e+00  7.95787080e-01  6.15034865e-01\n",
            "   1.55776560e-01  2.39326219e-01  8.56597562e-01 -8.26164666e-01\n",
            "   8.54188410e-01  9.66034584e-01  8.03802360e-01  8.45425064e-01\n",
            "   9.37222374e-01  4.32052679e-02  1.43467434e-01 -4.69284302e-02\n",
            "  -1.00649641e-01  5.29945152e-02]\n",
            " [ 7.85761002e-01  7.95787080e-01  1.00148148e+00  7.58464899e-01\n",
            "   1.61993249e-01  2.43156204e-01  9.09678230e-01 -9.13151101e-01\n",
            "   9.00030402e-01  7.75008643e-01  8.62335600e-01  8.91906288e-01\n",
            "   7.05275705e-01 -2.39170410e-01  1.09040193e-01  2.34696926e-01\n",
            "   1.54755419e-01  3.45451363e-01]\n",
            " [ 6.86661582e-01  6.15034865e-01  7.58464899e-01  1.00148148e+00\n",
            "   6.79331521e-01  4.60518622e-01  7.31618008e-01 -7.86423412e-01\n",
            "   7.05938708e-01  5.62771109e-01  8.09442603e-01  7.17274687e-01\n",
            "   5.40813096e-01 -1.55579575e-01  4.81391645e-02  1.39486770e-01\n",
            "   3.85067722e-01  4.77742881e-01]\n",
            " [ 1.04119727e-01  1.55776560e-01  1.61993249e-01  6.79331521e-01\n",
            "   1.00148148e+00  6.85249737e-01  1.14786661e-01 -1.90785339e-01\n",
            "   9.22496423e-02  1.33695924e-01  3.19855346e-01  1.02271731e-01\n",
            "   1.43554931e-01  2.20790392e-01 -5.62274377e-02 -4.42087421e-02\n",
            "   2.18306363e-01  2.43409048e-01]\n",
            " [ 1.27578064e-01  2.39326219e-01  2.43156204e-01  4.60518622e-01\n",
            "   6.85249737e-01  1.00148148e+00  1.56602795e-01 -1.68152919e-01\n",
            "   1.53700166e-01  2.93221339e-01  3.45326901e-01  1.35844019e-01\n",
            "   1.93839448e-01  3.67816259e-01  1.40918980e-02  1.43361875e-02\n",
            "  -4.80800225e-02  1.03447431e-01]\n",
            " [ 8.11688423e-01  8.56597562e-01  9.09678230e-01  7.31618008e-01\n",
            "   1.14786661e-01  1.56602795e-01  1.00148148e+00 -9.71971541e-01\n",
            "   9.90093042e-01  8.11900171e-01  9.40266513e-01  9.93622832e-01\n",
            "   7.94531214e-01 -6.53816886e-02  6.63728278e-02  1.90485018e-01\n",
            "   2.59850230e-02  1.51853432e-01]\n",
            " [-7.88963703e-01 -8.26164666e-01 -9.13151101e-01 -7.86423412e-01\n",
            "  -1.90785339e-01 -1.68152919e-01 -9.71971541e-01  1.00148148e+00\n",
            "  -9.48601050e-01 -7.76979421e-01 -9.31397258e-01 -9.54272095e-01\n",
            "  -7.63072291e-01  1.37356000e-01 -4.97263701e-02 -1.61947198e-01\n",
            "  -1.40856767e-01 -2.51684154e-01]\n",
            " [ 8.12622425e-01  8.54188410e-01  9.00030402e-01  7.05938708e-01\n",
            "   9.22496423e-02  1.53700166e-01  9.90093042e-01 -9.48601050e-01\n",
            "   1.00148148e+00  8.15715480e-01  9.23534268e-01  9.87794491e-01\n",
            "   7.91232653e-01 -5.47457692e-02  7.36883284e-02  1.91968533e-01\n",
            "  -4.41865304e-04  1.32719743e-01]\n",
            " [ 6.75083367e-01  9.66034584e-01  7.75008643e-01  5.62771109e-01\n",
            "   1.33695924e-01  2.93221339e-01  8.11900171e-01 -7.76979421e-01\n",
            "   8.15715480e-01  1.00148148e+00  7.44279418e-01  7.96867261e-01\n",
            "   8.71251572e-01  3.23771470e-02  1.41062421e-01 -3.02573167e-02\n",
            "  -9.98242156e-02  8.43891395e-02]\n",
            " [ 7.51395148e-01  8.03802360e-01  8.62335600e-01  8.09442603e-01\n",
            "   3.19855346e-01  3.45326901e-01  9.40266513e-01 -9.31397258e-01\n",
            "   9.23534268e-01  7.44279418e-01  1.00148148e+00  9.35596319e-01\n",
            "   7.70590416e-01  9.91624133e-02  2.53470292e-02  1.74864210e-01\n",
            "   3.56077260e-02  1.21586806e-01]\n",
            " [ 8.13047493e-01  8.45425064e-01  8.91906288e-01  7.17274687e-01\n",
            "   1.02271731e-01  1.35844019e-01  9.93622832e-01 -9.54272095e-01\n",
            "   9.87794491e-01  7.96867261e-01  9.35596319e-01  1.00148148e+00\n",
            "   7.87534619e-01 -5.57490869e-02  6.78921941e-02  1.80841338e-01\n",
            "   2.68932253e-02  1.38565129e-01]\n",
            " [ 5.82089557e-01  9.37222374e-01  7.05275705e-01  5.40813096e-01\n",
            "   1.43554931e-01  1.93839448e-01  7.94531214e-01 -7.63072291e-01\n",
            "   7.91232653e-01  8.71251572e-01  7.70590416e-01  7.87534619e-01\n",
            "   1.00148148e+00  1.66814986e-01  1.57576116e-01 -8.34799677e-02\n",
            "  -2.08651542e-01 -9.45732081e-02]\n",
            " [-2.82323938e-01  4.32052679e-02 -2.39170410e-01 -1.55579575e-01\n",
            "   2.20790392e-01  3.67816259e-01 -6.53816886e-02  1.37356000e-01\n",
            "  -5.47457692e-02  3.23771470e-02  9.91624133e-02 -5.57490869e-02\n",
            "   1.66814986e-01  1.00148148e+00 -1.16735427e-01 -1.19457736e-01\n",
            "  -7.38797262e-01 -7.86773360e-01]\n",
            " [ 2.39939403e-01  1.43467434e-01  1.09040193e-01  4.81391645e-02\n",
            "  -5.62274377e-02  1.40918980e-02  6.63728278e-02 -4.97263701e-02\n",
            "   7.36883284e-02  1.41062421e-01  2.53470292e-02  6.78921941e-02\n",
            "   1.57576116e-01 -1.16735427e-01  1.00148148e+00 -5.28685902e-02\n",
            "   1.47939644e-01  1.36554747e-01]\n",
            " [ 1.28953227e-01 -4.69284302e-02  2.34696926e-01  1.39486770e-01\n",
            "  -4.42087421e-02  1.43361875e-02  1.90485018e-01 -1.61947198e-01\n",
            "   1.91968533e-01 -3.02573167e-02  1.74864210e-01  1.80841338e-01\n",
            "  -8.34799677e-02 -1.19457736e-01 -5.28685902e-02  1.00148148e+00\n",
            "   7.81426863e-02  1.87593749e-01]\n",
            " [ 3.22880454e-01 -1.00649641e-01  1.54755419e-01  3.85067722e-01\n",
            "   2.18306363e-01 -4.80800225e-02  2.59850230e-02 -1.40856767e-01\n",
            "  -4.41865304e-04 -9.98242156e-02  3.56077260e-02  2.68932253e-02\n",
            "  -2.08651542e-01 -7.38797262e-01  1.47939644e-01  7.81426863e-02\n",
            "   1.00148148e+00  9.00969134e-01]\n",
            " [ 4.03732837e-01  5.29945152e-02  3.45451363e-01  4.77742881e-01\n",
            "   2.43409048e-01  1.03447431e-01  1.51853432e-01 -2.51684154e-01\n",
            "   1.32719743e-01  8.43891395e-02  1.21586806e-01  1.38565129e-01\n",
            "  -9.45732081e-02 -7.86773360e-01  1.36554747e-01  1.87593749e-01\n",
            "   9.00969134e-01  1.00148148e+00]]\n",
            "Eigenvectors \n",
            "[[ 2.74991577e-01 -1.42457607e-01  9.66607557e-02  7.74157193e-02\n",
            "  -6.85126476e-02 -1.63188699e-01 -4.53950516e-01  5.95879996e-01\n",
            "  -4.42123048e-01 -2.55366953e-01  5.58248907e-02  1.74014572e-02\n",
            "  -1.60578956e-01 -3.55402725e-02  1.23327726e-02 -6.50334286e-02\n",
            "   2.71203483e-02 -3.22854144e-03]\n",
            " [ 2.94258660e-01  1.36907411e-01  5.61196283e-02  1.85613770e-01\n",
            "   7.48803042e-02  2.91003692e-01  2.28258257e-01  1.67385699e-01\n",
            "   4.86856740e-03  8.63277120e-02  5.04246275e-03  1.46868353e-01\n",
            "   1.00912266e-01  2.50801377e-01  1.61956749e-02 -2.95040724e-02\n",
            "   7.44628230e-01  1.69987590e-01]\n",
            " [ 3.04576158e-01 -6.78543858e-02  5.21974182e-02 -7.66696068e-02\n",
            "  -3.77207575e-02  1.40385635e-01 -9.53691078e-02 -4.41245369e-01\n",
            "  -1.78418752e-01 -2.21525669e-01  6.97534427e-01 -2.56542915e-02\n",
            "   1.96816654e-01 -2.24731904e-01 -1.26961207e-02  7.36004269e-02\n",
            "   7.14638479e-02 -3.25086195e-02]\n",
            " [ 2.67730061e-01 -1.57154773e-01 -3.02324845e-01 -4.44827767e-02\n",
            "   5.63918960e-02 -2.38139812e-01  1.85250729e-01 -9.95347497e-02\n",
            "  -2.42316032e-01 -4.24940669e-02 -9.27571050e-02  1.37145048e-01\n",
            "   6.95804702e-02  4.68848557e-01  4.54742653e-02  6.05714549e-01\n",
            "  -1.36831381e-01 -7.64959874e-02]\n",
            " [ 8.57728932e-02 -5.39612477e-02 -6.42614129e-01  2.90470085e-02\n",
            "   4.83310758e-02 -1.98618687e-01  3.88179978e-01  6.34576275e-02\n",
            "  -3.08460135e-01  1.43041744e-01  4.00852993e-02 -7.91204639e-02\n",
            "  -6.84893331e-04 -3.24986362e-01 -3.54591677e-02 -3.82034862e-01\n",
            "   4.50813786e-02  3.32612018e-02]\n",
            " [ 9.44760098e-02  7.93771204e-02 -5.80584780e-01  3.81015791e-02\n",
            "  -1.96558323e-01  4.18803462e-01 -4.98494614e-01 -1.58474683e-01\n",
            "   1.52021994e-01 -1.42935676e-01 -2.83898993e-01  1.36038403e-01\n",
            "  -2.85786503e-02 -8.76528982e-02  1.11196842e-02  5.82662044e-02\n",
            "   5.82859472e-02 -2.32060427e-02]\n",
            " [ 3.16680666e-01  3.93863205e-02  1.03237630e-01 -9.95981116e-02\n",
            "   1.08681667e-02 -1.22128442e-01 -6.87135675e-02 -9.81493992e-02\n",
            "   5.44821978e-02  1.62738833e-01 -1.82076542e-01 -7.96618586e-02\n",
            "  -4.62499197e-02 -7.62239046e-02 -8.49189041e-01  1.11026928e-02\n",
            "   7.13969831e-02 -2.12023272e-01]\n",
            " [-3.13961347e-01  1.98729662e-02 -5.74494709e-02  8.45248770e-02\n",
            "  -7.45098413e-02  1.44888853e-01 -2.41634602e-02  2.07382770e-01\n",
            "  -1.81183972e-01 -1.35835453e-01 -3.02248137e-02 -1.55223932e-01\n",
            "   8.11237974e-01  1.32780953e-01 -2.44086304e-01 -2.56828822e-02\n",
            "  -7.61023716e-02 -4.89735825e-02]\n",
            " [ 3.13576114e-01  5.05561495e-02  1.15477562e-01 -9.57372600e-02\n",
            "  -5.76120454e-03 -9.81237442e-02 -1.05899983e-01 -6.44497068e-02\n",
            "  -1.40822207e-02  1.95790376e-01 -2.63594277e-01 -2.49194491e-01\n",
            "   2.55690169e-01 -2.58375007e-01  1.17058846e-01  1.59431251e-01\n",
            "  -1.08859499e-01  7.05949546e-01]\n",
            " [ 2.82504968e-01  1.26713593e-01  4.59390046e-02  1.89833936e-01\n",
            "   4.46501661e-02  4.71574830e-01  8.20358871e-02  2.34367904e-01\n",
            "  -5.77072039e-02  4.84675572e-01  1.64034574e-01  1.77532996e-01\n",
            "   9.65877064e-03 -7.37043483e-04  1.55986366e-02  1.81452058e-03\n",
            "  -5.19299418e-01 -1.15214871e-01]\n",
            " [ 3.08438231e-01  6.55078365e-02 -7.30617190e-02 -1.23009146e-01\n",
            "  -5.87617470e-03 -2.35676896e-01 -9.09396113e-02 -5.29302989e-02\n",
            "   3.20189653e-01 -1.47160328e-01  1.03066479e-01  1.96789272e-01\n",
            "   1.61398680e-01  4.68763143e-01  4.94825551e-03 -5.61901241e-01\n",
            "  -2.28801765e-01  1.61347791e-01]\n",
            " [ 3.13401165e-01  4.26841357e-02  1.12889351e-01 -9.69528129e-02\n",
            "   1.41381459e-02 -1.65892446e-01 -8.59592564e-02 -4.58844889e-02\n",
            "   7.66626137e-02  1.66827329e-01 -2.48421228e-01 -1.82511222e-01\n",
            "   3.08619047e-01 -1.37596269e-01  4.45614934e-01 -8.99719066e-02\n",
            "   1.32640625e-01 -6.11087379e-01]\n",
            " [ 2.70966164e-01  2.09370397e-01  5.87945730e-02  2.00785534e-01\n",
            "   5.31793449e-02  1.43364901e-01  4.12390655e-01  1.18714160e-01\n",
            "   1.91941936e-01 -6.61955487e-01 -1.74000983e-01 -1.82805946e-01\n",
            "  -6.06140795e-02 -1.87536026e-01 -1.50585350e-02  6.59988995e-02\n",
            "  -2.14048981e-01 -5.88605398e-02]\n",
            " [-2.90282471e-02  4.99956073e-01 -2.57732237e-01 -5.57502527e-02\n",
            "  -1.50808156e-01 -2.38701813e-01 -9.01674691e-02  3.25670155e-01\n",
            "   3.37470559e-01  1.25731184e-01  4.06964268e-01 -3.22564955e-01\n",
            "  -3.75447268e-02  3.62233202e-02 -8.14852451e-03  2.80054886e-01\n",
            "   6.87900960e-02 -2.09925257e-02]\n",
            " [ 4.04700962e-02 -8.56045407e-02  9.34093068e-02  5.95632834e-01\n",
            "  -7.34867303e-01 -2.07502944e-01  7.74289698e-02 -1.67634010e-01\n",
            "   1.27291143e-02  9.16866424e-02 -1.34153791e-02  3.50193928e-03\n",
            "  -9.31019231e-03  2.66364564e-02  3.33140393e-03 -2.65579139e-02\n",
            "  -7.78345620e-03  3.54130143e-03]\n",
            " [ 4.74628772e-02 -1.23714562e-01  5.50415468e-02 -6.72667497e-01\n",
            "  -5.99584911e-01  2.05970243e-01  2.74079362e-01  1.99981933e-01\n",
            "  -5.03431840e-03 -2.86937499e-02 -3.07740004e-02  8.17133091e-02\n",
            "  -2.19023737e-02 -2.08263565e-02  1.37220041e-02  4.39829790e-03\n",
            "   1.66886460e-02 -4.51581785e-03]\n",
            " [ 3.78030564e-02 -5.42233476e-01 -7.54596027e-02  9.73305004e-02\n",
            "   9.90121909e-02 -1.28808699e-01  2.70593757e-02  2.78336869e-01\n",
            "   5.22814442e-01  1.39474750e-02  1.22094433e-01  3.35860329e-01\n",
            "   2.11031588e-01 -3.18823234e-01 -4.71341178e-02  1.80867521e-01\n",
            "   4.78580390e-02  1.18888400e-02]\n",
            " [ 8.44155225e-02 -5.34166181e-01 -9.23749860e-02  4.94759075e-02\n",
            "   3.58794512e-02  2.58522356e-01 -1.67665706e-02  2.85284259e-02\n",
            "   1.54017898e-01  6.69300246e-02  6.90920596e-02 -6.93428524e-01\n",
            "  -1.49797066e-01  2.89946445e-01  4.23453700e-03 -8.36102348e-02\n",
            "  -3.27096398e-04  2.93120149e-03]]\n",
            "\n",
            "Eigenvalues \n",
            "[9.40737095e+00 2.98218977e+00 2.00253156e+00 1.21584479e+00\n",
            " 8.98387396e-01 4.90336171e-01 3.36293103e-01 2.22999123e-01\n",
            " 1.56516221e-01 9.11878562e-02 6.70113265e-02 4.49614731e-02\n",
            " 3.62460958e-02 2.69022656e-02 3.66944147e-03 1.75428435e-02\n",
            " 1.51997802e-02 1.14764868e-02]\n"
          ]
        }
      ]
    },
    {
      "cell_type": "code",
      "source": [
        "total = sum(e_vals)\n",
        "var_expl = [( i /total ) * 100 for i in sorted(e_vals, reverse=True)]\n",
        "cum_var_expl = np.cumsum(var_expl)\n",
        "print(\"Cumulative Variance Explained\", cum_var_expl)"
      ],
      "metadata": {
        "colab": {
          "base_uri": "https://localhost:8080/"
        },
        "id": "GB5-8uj6SBZM",
        "outputId": "a1e6ce4d-1f9c-4a30-a404-47e08d18437a"
      },
      "execution_count": 23,
      "outputs": [
        {
          "output_type": "stream",
          "name": "stdout",
          "text": [
            "Cumulative Variance Explained [ 52.18585958  68.72907208  79.83779007  86.58249122  91.56614911\n",
            "  94.28620923  96.1517405   97.38879185  98.25704011  98.76288991\n",
            "  99.13462434  99.38404079  99.58511011  99.73434605  99.83166212\n",
            "  99.91598043  99.97964437 100.        ]\n"
          ]
        }
      ]
    },
    {
      "cell_type": "markdown",
      "source": [
        "Visualize Cumulative Variance Explained with Number of Components"
      ],
      "metadata": {
        "id": "0BHBl-U-F37T"
      }
    },
    {
      "cell_type": "code",
      "source": [
        "plt.figure(figsize=(10 , 5))\n",
        "plt.bar(range(1, e_vals.size + 1), var_expl, alpha = 0.5, align = 'center', label = 'Individual explained variance')\n",
        "plt.step(range(1, e_vals.size + 1), cum_var_expl, where='mid', label = 'Cumulative explained variance')\n",
        "plt.axhline(y=90, color='r', linestyle='-')\n",
        "plt.ylabel('Explained Variance Ratio')\n",
        "plt.xlabel('Principal Components')\n",
        "plt.legend(loc = 'best')\n",
        "plt.tight_layout()\n",
        "plt.show()"
      ],
      "metadata": {
        "colab": {
          "base_uri": "https://localhost:8080/",
          "height": 506
        },
        "id": "sfIXHu98T1wm",
        "outputId": "7240b8bd-906e-4757-89b2-c29bd6bb47f3"
      },
      "execution_count": 24,
      "outputs": [
        {
          "output_type": "display_data",
          "data": {
            "text/plain": [
              "<Figure size 1000x500 with 1 Axes>"
            ],
            "image/png": "[encoded data removed]"
          },
          "metadata": {}
        }
      ]
    },
    {
      "cell_type": "markdown",
      "source": [
        "Based on the graph above, 5 components explain slightly more than 90% of the variance"
      ],
      "metadata": {
        "id": "q18yYET9GFNP"
      }
    },
    {
      "cell_type": "markdown",
      "source": [
        "Apply PCA on the data, this time with Components with 90% or above variance explained"
      ],
      "metadata": {
        "id": "6LCg0HJJGRGi"
      }
    },
    {
      "cell_type": "code",
      "source": [
        "# Reducing the dimensions to 5\n",
        "pca = PCA(n_components = 5, random_state = 42)\n",
        "pca.fit(X_train)\n",
        "X_train_reduced = pca.fit_transform(X_train)\n",
        "X_test_reduced = pca.fit_transform(X_test)\n",
        "print(X_train_reduced.shape)\n",
        "print(X_test_reduced.shape)\n"
      ],
      "metadata": {
        "colab": {
          "base_uri": "https://localhost:8080/"
        },
        "id": "9sXIIegBWpsQ",
        "outputId": "86226466-41f5-49ca-cb6a-4672a0ba8482"
      },
      "execution_count": 25,
      "outputs": [
        {
          "output_type": "stream",
          "name": "stdout",
          "text": [
            "(676, 5)\n",
            "(170, 5)\n"
          ]
        }
      ]
    },
    {
      "cell_type": "code",
      "source": [
        "pca.components_"
      ],
      "metadata": {
        "colab": {
          "base_uri": "https://localhost:8080/"
        },
        "id": "mXhsnb6xXTZ5",
        "outputId": "5e23931b-14f9-486b-b086-32a9ab1825ee"
      },
      "execution_count": 26,
      "outputs": [
        {
          "output_type": "execute_result",
          "data": {
            "text/plain": [
              "array([[ 0.27527999,  0.28664117,  0.30323939,  0.26697046,  0.05130842,\n",
              "         0.15564072,  0.31477689, -0.31117133,  0.31199399,  0.28281878,\n",
              "         0.30601296,  0.31147356,  0.27090908,  0.00524133,  0.04648287,\n",
              "         0.10304227,  0.00317166,  0.04321692],\n",
              "       [-0.05801421,  0.06226648, -0.08787351, -0.21624496, -0.27358887,\n",
              "        -0.24676007,  0.06682876, -0.01262431,  0.07733492,  0.05376685,\n",
              "         0.08461536,  0.07934233,  0.18777445,  0.4940871 ,  0.06028045,\n",
              "        -0.1234896 , -0.46660961, -0.5095007 ],\n",
              "       [ 0.16417846, -0.09472714,  0.10516562, -0.22662135, -0.60371338,\n",
              "         0.24055214, -0.00473708,  0.07352057,  0.02194084, -0.03593261,\n",
              "        -0.04225498, -0.00774377, -0.103706  , -0.10631984,  0.4135523 ,\n",
              "         0.51695532, -0.05884738,  0.08052388],\n",
              "       [ 0.04858545,  0.19901501, -0.02877797, -0.04093879,  0.09205842,\n",
              "         0.12230117, -0.09796999,  0.10054071, -0.09362189,  0.18508086,\n",
              "        -0.13537541, -0.09482816,  0.19573905, -0.0821733 ,  0.7295458 ,\n",
              "        -0.50970413,  0.0642465 ,  0.02865947],\n",
              "       [-0.19428467,  0.2524406 ,  0.03556039, -0.16464061, -0.05068964,\n",
              "         0.63405212, -0.09716531,  0.08852691, -0.10758439,  0.34628631,\n",
              "        -0.17808522, -0.13504463,  0.11365043, -0.04620703, -0.38481012,\n",
              "        -0.04867282, -0.31534187,  0.04366479]])"
            ]
          },
          "metadata": {},
          "execution_count": 26
        }
      ]
    },
    {
      "cell_type": "markdown",
      "source": [
        "Train SVM model on components selected from above step"
      ],
      "metadata": {
        "id": "VIU8YXP7GYCN"
      }
    },
    {
      "cell_type": "code",
      "source": [
        "classifier_red = svm.SVC()\n",
        "classifier_red.fit(X_train_reduced , y_train)\n",
        "print(classifier_red.score(X_train_reduced, y_train))\n",
        "print(classifier_red.score(X_test_reduced, y_test))"
      ],
      "metadata": {
        "colab": {
          "base_uri": "https://localhost:8080/"
        },
        "id": "4m_HzQ96Xgv0",
        "outputId": "64fc272a-b3d8-42c9-cb7e-042e076b2ecb"
      },
      "execution_count": 27,
      "outputs": [
        {
          "output_type": "stream",
          "name": "stdout",
          "text": [
            "0.8136094674556213\n",
            "0.5823529411764706\n"
          ]
        }
      ]
    },
    {
      "cell_type": "markdown",
      "source": [
        "Print Classification metrics for train data of above model"
      ],
      "metadata": {
        "id": "1pR11yMAGcHW"
      }
    },
    {
      "cell_type": "code",
      "source": [
        "y_red_pred = classifier_red.predict(X_test_reduced)\n",
        "cm=metrics.confusion_matrix(y_test, y_red_pred, labels=[1, 2, 3])\n",
        "\n",
        "df_cm = pd.DataFrame(cm, index = [i for i in [\"Van\",\"Bus\",\"Car\"]],\n",
        "                  columns = [i for i in [\"Predict Van\",\"Predict Bus\",\"Predict Car\"]])\n",
        "plt.figure(figsize = (7,5))\n",
        "sns.heatmap(df_cm, annot=True, fmt='g')"
      ],
      "metadata": {
        "colab": {
          "base_uri": "https://localhost:8080/",
          "height": 462
        },
        "id": "5YmFsAK8YNsy",
        "outputId": "6ca0cf67-a2ef-42ed-8a6e-b5961b30e578"
      },
      "execution_count": 28,
      "outputs": [
        {
          "output_type": "execute_result",
          "data": {
            "text/plain": [
              "<Axes: >"
            ]
          },
          "metadata": {},
          "execution_count": 28
        },
        {
          "output_type": "display_data",
          "data": {
            "text/plain": [
              "<Figure size 700x500 with 2 Axes>"
            ],
            "image/png": "[encoded data removed]"
          },
          "metadata": {}
        }
      ]
    },
    {
      "cell_type": "code",
      "source": [
        "print(\"classification  Matrix:\\n\",classification_report(y_test,y_red_pred))"
      ],
      "metadata": {
        "colab": {
          "base_uri": "https://localhost:8080/"
        },
        "id": "UyG3Eg7qYQ8z",
        "outputId": "71e92ae6-cb56-4b89-941d-3b214d48bc34"
      },
      "execution_count": 29,
      "outputs": [
        {
          "output_type": "stream",
          "name": "stdout",
          "text": [
            "classification  Matrix:\n",
            "               precision    recall  f1-score   support\n",
            "\n",
            "         1.0       0.58      0.72      0.64        78\n",
            "         2.0       0.53      0.40      0.46        52\n",
            "         3.0       0.65      0.55      0.59        40\n",
            "\n",
            "    accuracy                           0.58       170\n",
            "   macro avg       0.59      0.56      0.56       170\n",
            "weighted avg       0.58      0.58      0.57       170\n",
            "\n"
          ]
        }
      ]
    },
    {
      "cell_type": "markdown",
      "source": [
        "The 5 components we have chosen explain around 90% of the variance. However, our model has only 81% accuracy on the train data."
      ],
      "metadata": {
        "id": "j9FePQNMGeVY"
      }
    },
    {
      "cell_type": "markdown",
      "source": [
        "## Model Improvement"
      ],
      "metadata": {
        "id": "_xu1pzDCOBO7"
      }
    },
    {
      "cell_type": "markdown",
      "source": [
        "Tune hyper parameters to get the best parameters for SVM"
      ],
      "metadata": {
        "id": "dH3AQnCAG_5b"
      }
    },
    {
      "cell_type": "code",
      "source": [
        "param_grid = {'C': [0.1, 1, 10, 100, 1000],\n",
        "              'gamma': [1, 0.1, 0.01, 0.001, 0.0001],\n",
        "              'kernel': ['rbf']}\n",
        "\n",
        "grid = GridSearchCV(svm.SVC(), param_grid, refit = True, verbose = 3)\n",
        "\n",
        "# fitting the model for grid search\n",
        "grid.fit(X_train_reduced, y_train)"
      ],
      "metadata": {
        "colab": {
          "base_uri": "https://localhost:8080/",
          "height": 1000
        },
        "id": "eSJ0MH3OY913",
        "outputId": "15f2b88b-8b3f-4c3f-8227-822df0fe3d4a"
      },
      "execution_count": 30,
      "outputs": [
        {
          "output_type": "stream",
          "name": "stdout",
          "text": [
            "Fitting 5 folds for each of 25 candidates, totalling 125 fits\n",
            "[CV 1/5] END ........C=0.1, gamma=1, kernel=rbf;, score=0.559 total time=   0.0s\n",
            "[CV 2/5] END ........C=0.1, gamma=1, kernel=rbf;, score=0.548 total time=   0.0s\n",
            "[CV 3/5] END ........C=0.1, gamma=1, kernel=rbf;, score=0.570 total time=   0.0s\n",
            "[CV 4/5] END ........C=0.1, gamma=1, kernel=rbf;, score=0.563 total time=   0.0s\n",
            "[CV 5/5] END ........C=0.1, gamma=1, kernel=rbf;, score=0.570 total time=   0.0s\n",
            "[CV 1/5] END ......C=0.1, gamma=0.1, kernel=rbf;, score=0.728 total time=   0.0s\n",
            "[CV 2/5] END ......C=0.1, gamma=0.1, kernel=rbf;, score=0.644 total time=   0.0s\n",
            "[CV 3/5] END ......C=0.1, gamma=0.1, kernel=rbf;, score=0.659 total time=   0.0s\n",
            "[CV 4/5] END ......C=0.1, gamma=0.1, kernel=rbf;, score=0.652 total time=   0.0s\n",
            "[CV 5/5] END ......C=0.1, gamma=0.1, kernel=rbf;, score=0.667 total time=   0.0s\n",
            "[CV 1/5] END .....C=0.1, gamma=0.01, kernel=rbf;, score=0.515 total time=   0.0s\n",
            "[CV 2/5] END .....C=0.1, gamma=0.01, kernel=rbf;, score=0.519 total time=   0.0s\n",
            "[CV 3/5] END .....C=0.1, gamma=0.01, kernel=rbf;, score=0.519 total time=   0.0s\n",
            "[CV 4/5] END .....C=0.1, gamma=0.01, kernel=rbf;, score=0.519 total time=   0.0s\n",
            "[CV 5/5] END .....C=0.1, gamma=0.01, kernel=rbf;, score=0.526 total time=   0.0s\n",
            "[CV 1/5] END ....C=0.1, gamma=0.001, kernel=rbf;, score=0.515 total time=   0.0s\n",
            "[CV 2/5] END ....C=0.1, gamma=0.001, kernel=rbf;, score=0.519 total time=   0.0s\n",
            "[CV 3/5] END ....C=0.1, gamma=0.001, kernel=rbf;, score=0.519 total time=   0.0s\n",
            "[CV 4/5] END ....C=0.1, gamma=0.001, kernel=rbf;, score=0.519 total time=   0.0s\n",
            "[CV 5/5] END ....C=0.1, gamma=0.001, kernel=rbf;, score=0.526 total time=   0.0s\n",
            "[CV 1/5] END ...C=0.1, gamma=0.0001, kernel=rbf;, score=0.515 total time=   0.0s\n",
            "[CV 2/5] END ...C=0.1, gamma=0.0001, kernel=rbf;, score=0.519 total time=   0.0s\n",
            "[CV 3/5] END ...C=0.1, gamma=0.0001, kernel=rbf;, score=0.519 total time=   0.0s\n",
            "[CV 4/5] END ...C=0.1, gamma=0.0001, kernel=rbf;, score=0.519 total time=   0.0s\n",
            "[CV 5/5] END ...C=0.1, gamma=0.0001, kernel=rbf;, score=0.526 total time=   0.0s\n",
            "[CV 1/5] END ..........C=1, gamma=1, kernel=rbf;, score=0.757 total time=   0.0s\n",
            "[CV 2/5] END ..........C=1, gamma=1, kernel=rbf;, score=0.778 total time=   0.0s\n",
            "[CV 3/5] END ..........C=1, gamma=1, kernel=rbf;, score=0.733 total time=   0.0s\n",
            "[CV 4/5] END ..........C=1, gamma=1, kernel=rbf;, score=0.793 total time=   0.0s\n",
            "[CV 5/5] END ..........C=1, gamma=1, kernel=rbf;, score=0.763 total time=   0.0s\n",
            "[CV 1/5] END ........C=1, gamma=0.1, kernel=rbf;, score=0.816 total time=   0.0s\n",
            "[CV 2/5] END ........C=1, gamma=0.1, kernel=rbf;, score=0.793 total time=   0.0s\n",
            "[CV 3/5] END ........C=1, gamma=0.1, kernel=rbf;, score=0.733 total time=   0.0s\n",
            "[CV 4/5] END ........C=1, gamma=0.1, kernel=rbf;, score=0.800 total time=   0.0s\n",
            "[CV 5/5] END ........C=1, gamma=0.1, kernel=rbf;, score=0.763 total time=   0.0s\n",
            "[CV 1/5] END .......C=1, gamma=0.01, kernel=rbf;, score=0.728 total time=   0.0s\n",
            "[CV 2/5] END .......C=1, gamma=0.01, kernel=rbf;, score=0.652 total time=   0.0s\n",
            "[CV 3/5] END .......C=1, gamma=0.01, kernel=rbf;, score=0.652 total time=   0.0s\n",
            "[CV 4/5] END .......C=1, gamma=0.01, kernel=rbf;, score=0.741 total time=   0.0s\n",
            "[CV 5/5] END .......C=1, gamma=0.01, kernel=rbf;, score=0.711 total time=   0.0s\n",
            "[CV 1/5] END ......C=1, gamma=0.001, kernel=rbf;, score=0.515 total time=   0.0s\n",
            "[CV 2/5] END ......C=1, gamma=0.001, kernel=rbf;, score=0.519 total time=   0.0s\n",
            "[CV 3/5] END ......C=1, gamma=0.001, kernel=rbf;, score=0.519 total time=   0.0s\n",
            "[CV 4/5] END ......C=1, gamma=0.001, kernel=rbf;, score=0.519 total time=   0.0s\n",
            "[CV 5/5] END ......C=1, gamma=0.001, kernel=rbf;, score=0.526 total time=   0.0s\n",
            "[CV 1/5] END .....C=1, gamma=0.0001, kernel=rbf;, score=0.515 total time=   0.0s\n",
            "[CV 2/5] END .....C=1, gamma=0.0001, kernel=rbf;, score=0.519 total time=   0.0s\n",
            "[CV 3/5] END .....C=1, gamma=0.0001, kernel=rbf;, score=0.519 total time=   0.0s\n",
            "[CV 4/5] END .....C=1, gamma=0.0001, kernel=rbf;, score=0.519 total time=   0.0s\n",
            "[CV 5/5] END .....C=1, gamma=0.0001, kernel=rbf;, score=0.526 total time=   0.0s\n",
            "[CV 1/5] END .........C=10, gamma=1, kernel=rbf;, score=0.765 total time=   0.0s\n",
            "[CV 2/5] END .........C=10, gamma=1, kernel=rbf;, score=0.770 total time=   0.0s\n",
            "[CV 3/5] END .........C=10, gamma=1, kernel=rbf;, score=0.741 total time=   0.0s\n",
            "[CV 4/5] END .........C=10, gamma=1, kernel=rbf;, score=0.756 total time=   0.0s\n",
            "[CV 5/5] END .........C=10, gamma=1, kernel=rbf;, score=0.719 total time=   0.0s\n",
            "[CV 1/5] END .......C=10, gamma=0.1, kernel=rbf;, score=0.846 total time=   0.0s\n",
            "[CV 2/5] END .......C=10, gamma=0.1, kernel=rbf;, score=0.844 total time=   0.0s\n",
            "[CV 3/5] END .......C=10, gamma=0.1, kernel=rbf;, score=0.763 total time=   0.0s\n",
            "[CV 4/5] END .......C=10, gamma=0.1, kernel=rbf;, score=0.867 total time=   0.0s\n",
            "[CV 5/5] END .......C=10, gamma=0.1, kernel=rbf;, score=0.763 total time=   0.0s\n",
            "[CV 1/5] END ......C=10, gamma=0.01, kernel=rbf;, score=0.757 total time=   0.0s\n",
            "[CV 2/5] END ......C=10, gamma=0.01, kernel=rbf;, score=0.733 total time=   0.0s\n",
            "[CV 3/5] END ......C=10, gamma=0.01, kernel=rbf;, score=0.681 total time=   0.0s\n",
            "[CV 4/5] END ......C=10, gamma=0.01, kernel=rbf;, score=0.756 total time=   0.0s\n",
            "[CV 5/5] END ......C=10, gamma=0.01, kernel=rbf;, score=0.748 total time=   0.0s\n",
            "[CV 1/5] END .....C=10, gamma=0.001, kernel=rbf;, score=0.669 total time=   0.0s\n",
            "[CV 2/5] END .....C=10, gamma=0.001, kernel=rbf;, score=0.585 total time=   0.0s\n",
            "[CV 3/5] END .....C=10, gamma=0.001, kernel=rbf;, score=0.585 total time=   0.0s\n",
            "[CV 4/5] END .....C=10, gamma=0.001, kernel=rbf;, score=0.704 total time=   0.0s\n",
            "[CV 5/5] END .....C=10, gamma=0.001, kernel=rbf;, score=0.681 total time=   0.0s\n",
            "[CV 1/5] END ....C=10, gamma=0.0001, kernel=rbf;, score=0.515 total time=   0.0s\n",
            "[CV 2/5] END ....C=10, gamma=0.0001, kernel=rbf;, score=0.519 total time=   0.0s\n",
            "[CV 3/5] END ....C=10, gamma=0.0001, kernel=rbf;, score=0.519 total time=   0.0s\n",
            "[CV 4/5] END ....C=10, gamma=0.0001, kernel=rbf;, score=0.519 total time=   0.0s\n",
            "[CV 5/5] END ....C=10, gamma=0.0001, kernel=rbf;, score=0.526 total time=   0.0s\n",
            "[CV 1/5] END ........C=100, gamma=1, kernel=rbf;, score=0.765 total time=   0.0s\n",
            "[CV 2/5] END ........C=100, gamma=1, kernel=rbf;, score=0.778 total time=   0.0s\n",
            "[CV 3/5] END ........C=100, gamma=1, kernel=rbf;, score=0.741 total time=   0.0s\n",
            "[CV 4/5] END ........C=100, gamma=1, kernel=rbf;, score=0.756 total time=   0.0s\n",
            "[CV 5/5] END ........C=100, gamma=1, kernel=rbf;, score=0.719 total time=   0.0s\n",
            "[CV 1/5] END ......C=100, gamma=0.1, kernel=rbf;, score=0.846 total time=   0.0s\n",
            "[CV 2/5] END ......C=100, gamma=0.1, kernel=rbf;, score=0.815 total time=   0.0s\n",
            "[CV 3/5] END ......C=100, gamma=0.1, kernel=rbf;, score=0.763 total time=   0.0s\n",
            "[CV 4/5] END ......C=100, gamma=0.1, kernel=rbf;, score=0.830 total time=   0.0s\n",
            "[CV 5/5] END ......C=100, gamma=0.1, kernel=rbf;, score=0.785 total time=   0.0s\n",
            "[CV 1/5] END .....C=100, gamma=0.01, kernel=rbf;, score=0.824 total time=   0.0s\n",
            "[CV 2/5] END .....C=100, gamma=0.01, kernel=rbf;, score=0.807 total time=   0.0s\n",
            "[CV 3/5] END .....C=100, gamma=0.01, kernel=rbf;, score=0.770 total time=   0.0s\n",
            "[CV 4/5] END .....C=100, gamma=0.01, kernel=rbf;, score=0.822 total time=   0.0s\n",
            "[CV 5/5] END .....C=100, gamma=0.01, kernel=rbf;, score=0.741 total time=   0.0s\n",
            "[CV 1/5] END ....C=100, gamma=0.001, kernel=rbf;, score=0.743 total time=   0.0s\n",
            "[CV 2/5] END ....C=100, gamma=0.001, kernel=rbf;, score=0.659 total time=   0.0s\n",
            "[CV 3/5] END ....C=100, gamma=0.001, kernel=rbf;, score=0.644 total time=   0.0s\n",
            "[CV 4/5] END ....C=100, gamma=0.001, kernel=rbf;, score=0.756 total time=   0.0s\n",
            "[CV 5/5] END ....C=100, gamma=0.001, kernel=rbf;, score=0.719 total time=   0.0s\n",
            "[CV 1/5] END ...C=100, gamma=0.0001, kernel=rbf;, score=0.662 total time=   0.0s\n",
            "[CV 2/5] END ...C=100, gamma=0.0001, kernel=rbf;, score=0.563 total time=   0.0s\n",
            "[CV 3/5] END ...C=100, gamma=0.0001, kernel=rbf;, score=0.600 total time=   0.0s\n",
            "[CV 4/5] END ...C=100, gamma=0.0001, kernel=rbf;, score=0.689 total time=   0.0s\n",
            "[CV 5/5] END ...C=100, gamma=0.0001, kernel=rbf;, score=0.689 total time=   0.0s\n",
            "[CV 1/5] END .......C=1000, gamma=1, kernel=rbf;, score=0.765 total time=   0.0s\n",
            "[CV 2/5] END .......C=1000, gamma=1, kernel=rbf;, score=0.778 total time=   0.0s\n",
            "[CV 3/5] END .......C=1000, gamma=1, kernel=rbf;, score=0.741 total time=   0.0s\n",
            "[CV 4/5] END .......C=1000, gamma=1, kernel=rbf;, score=0.756 total time=   0.0s\n",
            "[CV 5/5] END .......C=1000, gamma=1, kernel=rbf;, score=0.719 total time=   0.0s\n",
            "[CV 1/5] END .....C=1000, gamma=0.1, kernel=rbf;, score=0.765 total time=   0.0s\n",
            "[CV 2/5] END .....C=1000, gamma=0.1, kernel=rbf;, score=0.778 total time=   0.0s\n",
            "[CV 3/5] END .....C=1000, gamma=0.1, kernel=rbf;, score=0.748 total time=   0.0s\n",
            "[CV 4/5] END .....C=1000, gamma=0.1, kernel=rbf;, score=0.733 total time=   0.0s\n",
            "[CV 5/5] END .....C=1000, gamma=0.1, kernel=rbf;, score=0.770 total time=   0.0s\n",
            "[CV 1/5] END ....C=1000, gamma=0.01, kernel=rbf;, score=0.860 total time=   0.0s\n",
            "[CV 2/5] END ....C=1000, gamma=0.01, kernel=rbf;, score=0.837 total time=   0.0s\n",
            "[CV 3/5] END ....C=1000, gamma=0.01, kernel=rbf;, score=0.770 total time=   0.0s\n",
            "[CV 4/5] END ....C=1000, gamma=0.01, kernel=rbf;, score=0.837 total time=   0.0s\n",
            "[CV 5/5] END ....C=1000, gamma=0.01, kernel=rbf;, score=0.756 total time=   0.0s\n",
            "[CV 1/5] END ...C=1000, gamma=0.001, kernel=rbf;, score=0.757 total time=   0.0s\n",
            "[CV 2/5] END ...C=1000, gamma=0.001, kernel=rbf;, score=0.726 total time=   0.0s\n",
            "[CV 3/5] END ...C=1000, gamma=0.001, kernel=rbf;, score=0.667 total time=   0.0s\n",
            "[CV 4/5] END ...C=1000, gamma=0.001, kernel=rbf;, score=0.763 total time=   0.0s\n",
            "[CV 5/5] END ...C=1000, gamma=0.001, kernel=rbf;, score=0.719 total time=   0.0s\n",
            "[CV 1/5] END ..C=1000, gamma=0.0001, kernel=rbf;, score=0.699 total time=   0.0s\n",
            "[CV 2/5] END ..C=1000, gamma=0.0001, kernel=rbf;, score=0.593 total time=   0.0s\n",
            "[CV 3/5] END ..C=1000, gamma=0.0001, kernel=rbf;, score=0.600 total time=   0.0s\n",
            "[CV 4/5] END ..C=1000, gamma=0.0001, kernel=rbf;, score=0.704 total time=   0.0s\n",
            "[CV 5/5] END ..C=1000, gamma=0.0001, kernel=rbf;, score=0.696 total time=   0.0s\n"
          ]
        },
        {
          "output_type": "execute_result",
          "data": {
            "text/plain": [
              "GridSearchCV(estimator=SVC(),\n",
              "             param_grid={'C': [0.1, 1, 10, 100, 1000],\n",
              "                         'gamma': [1, 0.1, 0.01, 0.001, 0.0001],\n",
              "                         'kernel': ['rbf']},\n",
              "             verbose=3)"
            ],
            "text/html": [
              "<style>#sk-container-id-1 {color: black;background-color: white;}#sk-container-id-1 pre{padding: 0;}#sk-container-id-1 div.sk-toggleable {background-color: white;}#sk-container-id-1 label.sk-toggleable__label {cursor: pointer;display: block;width: 100%;margin-bottom: 0;padding: 0.3em;box-sizing: border-box;text-align: center;}#sk-container-id-1 label.sk-toggleable__label-arrow:before {content: \"▸\";float: left;margin-right: 0.25em;color: #696969;}#sk-container-id-1 label.sk-toggleable__label-arrow:hover:before {color: black;}#sk-container-id-1 div.sk-estimator:hover label.sk-toggleable__label-arrow:before {color: black;}#sk-container-id-1 div.sk-toggleable__content {max-height: 0;max-width: 0;overflow: hidden;text-align: left;background-color: #f0f8ff;}#sk-container-id-1 div.sk-toggleable__content pre {margin: 0.2em;color: black;border-radius: 0.25em;background-color: #f0f8ff;}#sk-container-id-1 input.sk-toggleable__control:checked~div.sk-toggleable__content {max-height: 200px;max-width: 100%;overflow: auto;}#sk-container-id-1 input.sk-toggleable__control:checked~label.sk-toggleable__label-arrow:before {content: \"▾\";}#sk-container-id-1 div.sk-estimator input.sk-toggleable__control:checked~label.sk-toggleable__label {background-color: #d4ebff;}#sk-container-id-1 div.sk-label input.sk-toggleable__control:checked~label.sk-toggleable__label {background-color: #d4ebff;}#sk-container-id-1 input.sk-hidden--visually {border: 0;clip: rect(1px 1px 1px 1px);clip: rect(1px, 1px, 1px, 1px);height: 1px;margin: -1px;overflow: hidden;padding: 0;position: absolute;width: 1px;}#sk-container-id-1 div.sk-estimator {font-family: monospace;background-color: #f0f8ff;border: 1px dotted black;border-radius: 0.25em;box-sizing: border-box;margin-bottom: 0.5em;}#sk-container-id-1 div.sk-estimator:hover {background-color: #d4ebff;}#sk-container-id-1 div.sk-parallel-item::after {content: \"\";width: 100%;border-bottom: 1px solid gray;flex-grow: 1;}#sk-container-id-1 div.sk-label:hover label.sk-toggleable__label {background-color: #d4ebff;}#sk-container-id-1 div.sk-serial::before {content: \"\";position: absolute;border-left: 1px solid gray;box-sizing: border-box;top: 0;bottom: 0;left: 50%;z-index: 0;}#sk-container-id-1 div.sk-serial {display: flex;flex-direction: column;align-items: center;background-color: white;padding-right: 0.2em;padding-left: 0.2em;position: relative;}#sk-container-id-1 div.sk-item {position: relative;z-index: 1;}#sk-container-id-1 div.sk-parallel {display: flex;align-items: stretch;justify-content: center;background-color: white;position: relative;}#sk-container-id-1 div.sk-item::before, #sk-container-id-1 div.sk-parallel-item::before {content: \"\";position: absolute;border-left: 1px solid gray;box-sizing: border-box;top: 0;bottom: 0;left: 50%;z-index: -1;}#sk-container-id-1 div.sk-parallel-item {display: flex;flex-direction: column;z-index: 1;position: relative;background-color: white;}#sk-container-id-1 div.sk-parallel-item:first-child::after {align-self: flex-end;width: 50%;}#sk-container-id-1 div.sk-parallel-item:last-child::after {align-self: flex-start;width: 50%;}#sk-container-id-1 div.sk-parallel-item:only-child::after {width: 0;}#sk-container-id-1 div.sk-dashed-wrapped {border: 1px dashed gray;margin: 0 0.4em 0.5em 0.4em;box-sizing: border-box;padding-bottom: 0.4em;background-color: white;}#sk-container-id-1 div.sk-label label {font-family: monospace;font-weight: bold;display: inline-block;line-height: 1.2em;}#sk-container-id-1 div.sk-label-container {text-align: center;}#sk-container-id-1 div.sk-container {/* jupyter's `normalize.less` sets `[hidden] { display: none; }` but bootstrap.min.css set `[hidden] { display: none !important; }` so we also need the `!important` here to be able to override the default hidden behavior on the sphinx rendered scikit-learn.org. See: https://github.com/scikit-learn/scikit-learn/issues/21755 */display: inline-block !important;position: relative;}#sk-container-id-1 div.sk-text-repr-fallback {display: none;}</style><div id=\"sk-container-id-1\" class=\"sk-top-container\"><div class=\"sk-text-repr-fallback\"><pre>GridSearchCV(estimator=SVC(),\n",
              "             param_grid={&#x27;C&#x27;: [0.1, 1, 10, 100, 1000],\n",
              "                         &#x27;gamma&#x27;: [1, 0.1, 0.01, 0.001, 0.0001],\n",
              "                         &#x27;kernel&#x27;: [&#x27;rbf&#x27;]},\n",
              "             verbose=3)</pre><b>In a Jupyter environment, please rerun this cell to show the HTML representation or trust the notebook. <br />On GitHub, the HTML representation is unable to render, please try loading this page with nbviewer.org.</b></div><div class=\"sk-container\" hidden><div class=\"sk-item sk-dashed-wrapped\"><div class=\"sk-label-container\"><div class=\"sk-label sk-toggleable\"><input class=\"sk-toggleable__control sk-hidden--visually\" id=\"sk-estimator-id-1\" type=\"checkbox\" ><label for=\"sk-estimator-id-1\" class=\"sk-toggleable__label sk-toggleable__label-arrow\">GridSearchCV</label><div class=\"sk-toggleable__content\"><pre>GridSearchCV(estimator=SVC(),\n",
              "             param_grid={&#x27;C&#x27;: [0.1, 1, 10, 100, 1000],\n",
              "                         &#x27;gamma&#x27;: [1, 0.1, 0.01, 0.001, 0.0001],\n",
              "                         &#x27;kernel&#x27;: [&#x27;rbf&#x27;]},\n",
              "             verbose=3)</pre></div></div></div><div class=\"sk-parallel\"><div class=\"sk-parallel-item\"><div class=\"sk-item\"><div class=\"sk-label-container\"><div class=\"sk-label sk-toggleable\"><input class=\"sk-toggleable__control sk-hidden--visually\" id=\"sk-estimator-id-2\" type=\"checkbox\" ><label for=\"sk-estimator-id-2\" class=\"sk-toggleable__label sk-toggleable__label-arrow\">estimator: SVC</label><div class=\"sk-toggleable__content\"><pre>SVC()</pre></div></div></div><div class=\"sk-serial\"><div class=\"sk-item\"><div class=\"sk-estimator sk-toggleable\"><input class=\"sk-toggleable__control sk-hidden--visually\" id=\"sk-estimator-id-3\" type=\"checkbox\" ><label for=\"sk-estimator-id-3\" class=\"sk-toggleable__label sk-toggleable__label-arrow\">SVC</label><div class=\"sk-toggleable__content\"><pre>SVC()</pre></div></div></div></div></div></div></div></div></div></div>"
            ]
          },
          "metadata": {},
          "execution_count": 30
        }
      ]
    },
    {
      "cell_type": "code",
      "source": [
        "# print best parameter after tuning\n",
        "print(grid.best_params_)\n",
        "\n",
        "# print how our model looks after hyper-parameter tuning\n",
        "print(grid.best_estimator_)"
      ],
      "metadata": {
        "colab": {
          "base_uri": "https://localhost:8080/"
        },
        "id": "POGoM3TZZJ7M",
        "outputId": "a371f02a-3d8b-4faa-83f7-dd6caf2b548e"
      },
      "execution_count": 31,
      "outputs": [
        {
          "output_type": "stream",
          "name": "stdout",
          "text": [
            "{'C': 10, 'gamma': 0.1, 'kernel': 'rbf'}\n",
            "SVC(C=10, gamma=0.1)\n"
          ]
        }
      ]
    },
    {
      "cell_type": "markdown",
      "source": [
        "Best parameters seem to be for an SVC of C = 10 and Gamma = 0.1 for RBF kernel"
      ],
      "metadata": {
        "id": "7-Z6zOiYOGta"
      }
    },
    {
      "cell_type": "code",
      "source": [
        "best_classifier = svm.SVC(gamma=0.1, C=10, kernel='rbf')\n",
        "best_classifier.fit(X_train_reduced , y_train)\n",
        "print(best_classifier.score(X_train_reduced, y_train))\n",
        "print(best_classifier.score(X_test_reduced, y_test))"
      ],
      "metadata": {
        "colab": {
          "base_uri": "https://localhost:8080/"
        },
        "id": "5XlIzURtZUKA",
        "outputId": "8239784a-e807-4333-acdb-b884b0ec9ebc"
      },
      "execution_count": 32,
      "outputs": [
        {
          "output_type": "stream",
          "name": "stdout",
          "text": [
            "0.8920118343195266\n",
            "0.5764705882352941\n"
          ]
        }
      ]
    },
    {
      "cell_type": "code",
      "source": [
        "y_best_pred = best_classifier.predict(X_test_reduced)"
      ],
      "metadata": {
        "id": "4MACR5fSZnuF"
      },
      "execution_count": 33,
      "outputs": []
    },
    {
      "cell_type": "code",
      "source": [
        "cm=metrics.confusion_matrix(y_test, y_best_pred, labels=[1, 2, 3])\n",
        "\n",
        "df_cm = pd.DataFrame(cm, index = [i for i in [\"Van\",\"Bus\",\"Car\"]],\n",
        "                  columns = [i for i in [\"Predict Van\",\"Predict Bus\",\"Predict Car\"]])\n",
        "plt.figure(figsize = (7,5))\n",
        "sns.heatmap(df_cm, annot=True, fmt='g')"
      ],
      "metadata": {
        "colab": {
          "base_uri": "https://localhost:8080/",
          "height": 462
        },
        "id": "Zc0zO3ciZXgR",
        "outputId": "624385ac-8d1c-46fe-93cb-695ecc300406"
      },
      "execution_count": 34,
      "outputs": [
        {
          "output_type": "execute_result",
          "data": {
            "text/plain": [
              "<Axes: >"
            ]
          },
          "metadata": {},
          "execution_count": 34
        },
        {
          "output_type": "display_data",
          "data": {
            "text/plain": [
              "<Figure size 700x500 with 2 Axes>"
            ],
            "image/png": "[encoded data removed]"
          },
          "metadata": {}
        }
      ]
    },
    {
      "cell_type": "code",
      "source": [
        "print(\"classification  Matrix:\\n\",classification_report(y_test,y_best_pred))"
      ],
      "metadata": {
        "colab": {
          "base_uri": "https://localhost:8080/"
        },
        "id": "WO466LwPZaOA",
        "outputId": "55300748-4e11-49eb-9a34-28b47260ccc0"
      },
      "execution_count": 35,
      "outputs": [
        {
          "output_type": "stream",
          "name": "stdout",
          "text": [
            "classification  Matrix:\n",
            "               precision    recall  f1-score   support\n",
            "\n",
            "         1.0       0.58      0.69      0.63        78\n",
            "         2.0       0.50      0.40      0.45        52\n",
            "         3.0       0.66      0.57      0.61        40\n",
            "\n",
            "    accuracy                           0.58       170\n",
            "   macro avg       0.58      0.56      0.56       170\n",
            "weighted avg       0.57      0.58      0.57       170\n",
            "\n"
          ]
        }
      ]
    },
    {
      "cell_type": "markdown",
      "source": [
        "Accuracy on the training data has increased to 89% which is close to the explained variance of 90% of the 5 components we have chosen."
      ],
      "metadata": {
        "id": "f59dIHXeHJyl"
      }
    }
  ]
}